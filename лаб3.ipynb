{
 "cells": [
  {
   "cell_type": "markdown",
   "metadata": {
    "collapsed": false
   },
   "source": [
    "Мазур Наталья Игоревна Т120-101М-20"
   ]
  },
  {
   "cell_type": "code",
   "execution_count": 1,
   "metadata": {
    "collapsed": false
   },
   "outputs": [
   ],
   "source": [
    "import numpy as np"
   ]
  },
  {
   "cell_type": "markdown",
   "metadata": {
    "collapsed": false
   },
   "source": [
    "Дан вектор [1, 2, 3, 4, 5], построить новый вектор с тремя нулями между каждым значением"
   ]
  },
  {
   "cell_type": "code",
   "execution_count": 2,
   "metadata": {
    "collapsed": false
   },
   "outputs": [
    {
     "name": "stdout",
     "output_type": "stream",
     "text": [
      "[1. 0. 0. 0. 2. 0. 0. 0. 3. 0. 0. 0. 4. 0. 0. 0. 5.]\n"
     ]
    }
   ],
   "source": [
    "Z = np.array([1,2,3,4,5])\n",
    "nz = 3\n",
    "Z0 = np.zeros(len(Z) + (len(Z)-1)*(nz))\n",
    "Z0[::nz+1] = Z\n",
    "print(Z0)"
   ]
  },
  {
   "cell_type": "markdown",
   "metadata": {
    "collapsed": false
   },
   "source": [
    "Поменять 2 строки в матрице"
   ]
  },
  {
   "cell_type": "code",
   "execution_count": 3,
   "metadata": {
    "collapsed": false
   },
   "outputs": [
    {
     "name": "stdout",
     "output_type": "stream",
     "text": [
      "[[0 2 3 4]\n",
      " [4 2 3 3]\n",
      " [3 3 2 1]\n",
      " [0 2 2 2]\n",
      " [1 1 4 4]]\n",
      "[[4 2 3 3]\n",
      " [0 2 3 4]\n",
      " [3 3 2 1]\n",
      " [0 2 2 2]\n",
      " [1 1 4 4]]\n"
     ]
    }
   ],
   "source": [
    "A = np.random.randint(5,size=(5,4))\n",
    "print(A)\n",
    "A[[0,1]] = A[[1,0]]\n",
    "print(A)"
   ]
  },
  {
   "cell_type": "markdown",
   "metadata": {
    "collapsed": false
   },
   "source": [
    "Рассмотрим набор из 10 троек, описывающих 10 треугольников (с общими вершинами), найти множество уникальных отрезков, составляющих все треугольники"
   ]
  },
  {
   "cell_type": "code",
   "execution_count": 4,
   "metadata": {
    "collapsed": false
   },
   "outputs": [
    {
     "name": "stdout",
     "output_type": "stream",
     "text": [
      "[( 4, 28) ( 4, 92) ( 5,  8) ( 5, 32) ( 7,  9) ( 7, 37) ( 8, 32) ( 9, 37)\n",
      " (11, 50) (11, 58) (12, 70) (12, 97) (13, 15) (13, 72) (15, 72) (17, 39)\n",
      " (17, 91) (21, 41) (21, 46) (27, 47) (27, 91) (28, 92) (37, 72) (37, 89)\n",
      " (39, 91) (41, 46) (47, 91) (50, 58) (70, 97) (72, 89)]\n"
     ]
    }
   ],
   "source": [
    "faces = np.random.randint(0,100,(10,3))\n",
    "F = np.roll(faces.repeat(2,axis=1),-1,axis=1)\n",
    "F = F.reshape(len(F)*3,2)\n",
    "F = np.sort(F,axis=1)\n",
    "G = F.view( dtype=[('p0',F.dtype),('p1',F.dtype)] )\n",
    "G = np.unique(G)\n",
    "print(G)"
   ]
  },
  {
   "cell_type": "markdown",
   "metadata": {
    "collapsed": false
   },
   "source": [
    "Дан массив C; создать массив A, что np.bincount(A) == C"
   ]
  },
  {
   "cell_type": "code",
   "execution_count": 5,
   "metadata": {
    "collapsed": false
   },
   "outputs": [
    {
     "name": "stdout",
     "output_type": "stream",
     "text": [
      "[0 2 1 1 2 0 1]\n",
      "[1 1 2 3 4 4 6]\n",
      "[0 2 1 1 2 0 1]\n"
     ]
    }
   ],
   "source": [
    "C = np.bincount([1,1,2,3,4,4,6])\n",
    "print(C)\n",
    "A = np.repeat(np.arange(len(C)), C)\n",
    "print(A)\n",
    "print(np.bincount(A))"
   ]
  },
  {
   "cell_type": "markdown",
   "metadata": {
    "collapsed": false
   },
   "source": [
    "Посчитать среднее, используя плавающее окно"
   ]
  },
  {
   "cell_type": "code",
   "execution_count": 6,
   "metadata": {
    "collapsed": false
   },
   "outputs": [
    {
     "name": "stdout",
     "output_type": "stream",
     "text": [
      "[ 1.  2.  3.  4.  5.  6.  7.  8.  9. 10. 11. 12. 13. 14. 15. 16. 17. 18.]\n"
     ]
    }
   ],
   "source": [
    "def moving_average(a, n=3):\n",
    "    ret = np.cumsum(a, dtype=float)\n",
    "    ret[n:] = ret[n:] - ret[:-n]\n",
    "    return ret[n - 1:] / n\n",
    "\n",
    "print(moving_average(np.arange(20), 3))"
   ]
  },
  {
   "cell_type": "markdown",
   "metadata": {
    "collapsed": false
   },
   "source": [
    "Дан вектор Z, построить матрицу, первая строка которой (Z[0],Z[1],Z[2]), каждая последующая сдвинута на 1 (последняя (Z[-3],Z[-2],Z[-1]))"
   ]
  },
  {
   "cell_type": "code",
   "execution_count": 7,
   "metadata": {
    "collapsed": false
   },
   "outputs": [
    {
     "name": "stdout",
     "output_type": "stream",
     "text": [
      "[[0 1 2]\n",
      " [1 2 3]\n",
      " [2 3 4]\n",
      " [3 4 5]\n",
      " [4 5 6]\n",
      " [5 6 7]\n",
      " [6 7 8]\n",
      " [7 8 9]]\n"
     ]
    }
   ],
   "source": [
    "from numpy.lib import stride_tricks\n",
    "\n",
    "def rolling(a, window):\n",
    "    shape = (a.size - window + 1, window)\n",
    "    strides = (a.itemsize, a.itemsize)\n",
    "    return stride_tricks.as_strided(a, shape=shape, strides=strides)\n",
    "Z = rolling(np.arange(10), 3)\n",
    "print(Z)"
   ]
  },
  {
   "cell_type": "markdown",
   "metadata": {
    "collapsed": false
   },
   "source": [
    "Инвертировать булево значение, или поменять знак у числового массива без создания нового"
   ]
  },
  {
   "cell_type": "code",
   "execution_count": 8,
   "metadata": {
    "collapsed": false
   },
   "outputs": [
    {
     "name": "stdout",
     "output_type": "stream",
     "text": [
      "[0 1 1 0 0]\n",
      "[1 0 0 1 1]\n",
      "[1 1 1 1 1]\n",
      "[-1 -1 -1 -1 -1]\n"
     ]
    }
   ],
   "source": [
    "arr = np.random.randint(0,2,5)\n",
    "print(arr)\n",
    "np.logical_not(arr, out=arr)\n",
    "print(arr)\n",
    "\n",
    "brr = np.random.randint(1,2,5)\n",
    "print(brr)\n",
    "np.negative(brr, out=brr)\n",
    "print(brr)"
   ]
  },
  {
   "cell_type": "markdown",
   "metadata": {
    "collapsed": false
   },
   "source": [
    "Посчитать ранг матрицы"
   ]
  },
  {
   "cell_type": "code",
   "execution_count": 9,
   "metadata": {
    "collapsed": false
   },
   "outputs": [
   ],
   "source": [
    "Z = np.random.uniform(0,1,(10,10))\n",
    "rank = np.linalg.matrix_rank(Z)"
   ]
  },
  {
   "cell_type": "markdown",
   "metadata": {
    "collapsed": false
   },
   "source": [
    "Найти наиболее частое значение в массиве"
   ]
  },
  {
   "cell_type": "code",
   "execution_count": 10,
   "metadata": {
    "collapsed": false
   },
   "outputs": [
    {
     "name": "stdout",
     "output_type": "stream",
     "text": [
      "7\n"
     ]
    }
   ],
   "source": [
    "Z = np.random.randint(0,10,50)\n",
    "print(np.bincount(Z).argmax())"
   ]
  },
  {
   "cell_type": "markdown",
   "metadata": {
    "collapsed": false
   },
   "source": [
    "Извлечь все смежные 3x3 блоки из 10x10 матрицы"
   ]
  },
  {
   "cell_type": "code",
   "execution_count": 11,
   "metadata": {
    "collapsed": false
   },
   "outputs": [
    {
     "name": "stdout",
     "output_type": "stream",
     "text": [
      "[[[[0 1 3]\n",
      "   [1 4 0]\n",
      "   [4 1 4]]\n",
      "\n",
      "  [[1 3 4]\n",
      "   [4 0 2]\n",
      "   [1 4 4]]\n",
      "\n",
      "  [[3 4 1]\n",
      "   [0 2 3]\n",
      "   [4 4 1]]\n",
      "\n",
      "  [[4 1 4]\n",
      "   [2 3 0]\n",
      "   [4 1 4]]\n",
      "\n",
      "  [[1 4 4]\n",
      "   [3 0 0]\n",
      "   [1 4 3]]\n",
      "\n",
      "  [[4 4 2]\n",
      "   [0 0 1]\n",
      "   [4 3 3]]\n",
      "\n",
      "  [[4 2 1]\n",
      "   [0 1 3]\n",
      "   [3 3 1]]\n",
      "\n",
      "  [[2 1 1]\n",
      "   [1 3 1]\n",
      "   [3 1 4]]]\n",
      "\n",
      "\n",
      " [[[1 4 0]\n",
      "   [4 1 4]\n",
      "   [4 0 0]]\n",
      "\n",
      "  [[4 0 2]\n",
      "   [1 4 4]\n",
      "   [0 0 3]]\n",
      "\n",
      "  [[0 2 3]\n",
      "   [4 4 1]\n",
      "   [0 3 3]]\n",
      "\n",
      "  [[2 3 0]\n",
      "   [4 1 4]\n",
      "   [3 3 2]]\n",
      "\n",
      "  [[3 0 0]\n",
      "   [1 4 3]\n",
      "   [3 2 2]]\n",
      "\n",
      "  [[0 0 1]\n",
      "   [4 3 3]\n",
      "   [2 2 1]]\n",
      "\n",
      "  [[0 1 3]\n",
      "   [3 3 1]\n",
      "   [2 1 1]]\n",
      "\n",
      "  [[1 3 1]\n",
      "   [3 1 4]\n",
      "   [1 1 0]]]\n",
      "\n",
      "\n",
      " [[[4 1 4]\n",
      "   [4 0 0]\n",
      "   [3 1 2]]\n",
      "\n",
      "  [[1 4 4]\n",
      "   [0 0 3]\n",
      "   [1 2 2]]\n",
      "\n",
      "  [[4 4 1]\n",
      "   [0 3 3]\n",
      "   [2 2 0]]\n",
      "\n",
      "  [[4 1 4]\n",
      "   [3 3 2]\n",
      "   [2 0 2]]\n",
      "\n",
      "  [[1 4 3]\n",
      "   [3 2 2]\n",
      "   [0 2 3]]\n",
      "\n",
      "  [[4 3 3]\n",
      "   [2 2 1]\n",
      "   [2 3 0]]\n",
      "\n",
      "  [[3 3 1]\n",
      "   [2 1 1]\n",
      "   [3 0 0]]\n",
      "\n",
      "  [[3 1 4]\n",
      "   [1 1 0]\n",
      "   [0 0 4]]]\n",
      "\n",
      "\n",
      " [[[4 0 0]\n",
      "   [3 1 2]\n",
      "   [3 3 3]]\n",
      "\n",
      "  [[0 0 3]\n",
      "   [1 2 2]\n",
      "   [3 3 3]]\n",
      "\n",
      "  [[0 3 3]\n",
      "   [2 2 0]\n",
      "   [3 3 1]]\n",
      "\n",
      "  [[3 3 2]\n",
      "   [2 0 2]\n",
      "   [3 1 4]]\n",
      "\n",
      "  [[3 2 2]\n",
      "   [0 2 3]\n",
      "   [1 4 3]]\n",
      "\n",
      "  [[2 2 1]\n",
      "   [2 3 0]\n",
      "   [4 3 3]]\n",
      "\n",
      "  [[2 1 1]\n",
      "   [3 0 0]\n",
      "   [3 3 4]]\n",
      "\n",
      "  [[1 1 0]\n",
      "   [0 0 4]\n",
      "   [3 4 0]]]\n",
      "\n",
      "\n",
      " [[[3 1 2]\n",
      "   [3 3 3]\n",
      "   [1 4 0]]\n",
      "\n",
      "  [[1 2 2]\n",
      "   [3 3 3]\n",
      "   [4 0 4]]\n",
      "\n",
      "  [[2 2 0]\n",
      "   [3 3 1]\n",
      "   [0 4 2]]\n",
      "\n",
      "  [[2 0 2]\n",
      "   [3 1 4]\n",
      "   [4 2 2]]\n",
      "\n",
      "  [[0 2 3]\n",
      "   [1 4 3]\n",
      "   [2 2 3]]\n",
      "\n",
      "  [[2 3 0]\n",
      "   [4 3 3]\n",
      "   [2 3 3]]\n",
      "\n",
      "  [[3 0 0]\n",
      "   [3 3 4]\n",
      "   [3 3 3]]\n",
      "\n",
      "  [[0 0 4]\n",
      "   [3 4 0]\n",
      "   [3 3 3]]]\n",
      "\n",
      "\n",
      " [[[3 3 3]\n",
      "   [1 4 0]\n",
      "   [4 1 0]]\n",
      "\n",
      "  [[3 3 3]\n",
      "   [4 0 4]\n",
      "   [1 0 3]]\n",
      "\n",
      "  [[3 3 1]\n",
      "   [0 4 2]\n",
      "   [0 3 3]]\n",
      "\n",
      "  [[3 1 4]\n",
      "   [4 2 2]\n",
      "   [3 3 0]]\n",
      "\n",
      "  [[1 4 3]\n",
      "   [2 2 3]\n",
      "   [3 0 1]]\n",
      "\n",
      "  [[4 3 3]\n",
      "   [2 3 3]\n",
      "   [0 1 1]]\n",
      "\n",
      "  [[3 3 4]\n",
      "   [3 3 3]\n",
      "   [1 1 1]]\n",
      "\n",
      "  [[3 4 0]\n",
      "   [3 3 3]\n",
      "   [1 1 4]]]\n",
      "\n",
      "\n",
      " [[[1 4 0]\n",
      "   [4 1 0]\n",
      "   [0 0 0]]\n",
      "\n",
      "  [[4 0 4]\n",
      "   [1 0 3]\n",
      "   [0 0 1]]\n",
      "\n",
      "  [[0 4 2]\n",
      "   [0 3 3]\n",
      "   [0 1 3]]\n",
      "\n",
      "  [[4 2 2]\n",
      "   [3 3 0]\n",
      "   [1 3 3]]\n",
      "\n",
      "  [[2 2 3]\n",
      "   [3 0 1]\n",
      "   [3 3 4]]\n",
      "\n",
      "  [[2 3 3]\n",
      "   [0 1 1]\n",
      "   [3 4 0]]\n",
      "\n",
      "  [[3 3 3]\n",
      "   [1 1 1]\n",
      "   [4 0 3]]\n",
      "\n",
      "  [[3 3 3]\n",
      "   [1 1 4]\n",
      "   [0 3 2]]]\n",
      "\n",
      "\n",
      " [[[4 1 0]\n",
      "   [0 0 0]\n",
      "   [1 1 2]]\n",
      "\n",
      "  [[1 0 3]\n",
      "   [0 0 1]\n",
      "   [1 2 3]]\n",
      "\n",
      "  [[0 3 3]\n",
      "   [0 1 3]\n",
      "   [2 3 2]]\n",
      "\n",
      "  [[3 3 0]\n",
      "   [1 3 3]\n",
      "   [3 2 3]]\n",
      "\n",
      "  [[3 0 1]\n",
      "   [3 3 4]\n",
      "   [2 3 1]]\n",
      "\n",
      "  [[0 1 1]\n",
      "   [3 4 0]\n",
      "   [3 1 1]]\n",
      "\n",
      "  [[1 1 1]\n",
      "   [4 0 3]\n",
      "   [1 1 2]]\n",
      "\n",
      "  [[1 1 4]\n",
      "   [0 3 2]\n",
      "   [1 2 2]]]]\n"
     ]
    }
   ],
   "source": [
    "Z = np.random.randint(0,5,(10,10))\n",
    "n = 3\n",
    "i = 1 + (Z.shape[0] - n)\n",
    "j = 1 + (Z.shape[1] - n)\n",
    "C = stride_tricks.as_strided(Z, shape=(i, j, n, n), strides=Z.strides + Z.strides)\n",
    "print(C)"
   ]
  },
  {
   "cell_type": "markdown",
   "metadata": {
    "collapsed": false
   },
   "source": [
    "Рассмотрим множество матриц (n,n) и множество из p векторов (n,1). Посчитать сумму p произведений матриц (результат имеет размерность (n,1))"
   ]
  },
  {
   "cell_type": "code",
   "execution_count": 12,
   "metadata": {
    "collapsed": false
   },
   "outputs": [
    {
     "name": "stdout",
     "output_type": "stream",
     "text": [
      "[[200.]\n",
      " [200.]\n",
      " [200.]\n",
      " [200.]\n",
      " [200.]\n",
      " [200.]\n",
      " [200.]\n",
      " [200.]\n",
      " [200.]\n",
      " [200.]\n",
      " [200.]\n",
      " [200.]\n",
      " [200.]\n",
      " [200.]\n",
      " [200.]\n",
      " [200.]\n",
      " [200.]\n",
      " [200.]\n",
      " [200.]\n",
      " [200.]]\n"
     ]
    }
   ],
   "source": [
    "p, n = 10, 20\n",
    "M = np.ones((p,n,n))\n",
    "V = np.ones((p,n,1))\n",
    "S = np.tensordot(M, V, axes=[[0, 2], [0, 1]])\n",
    "print(S)\n"
   ]
  },
  {
   "cell_type": "markdown",
   "metadata": {
    "collapsed": false
   },
   "source": [
    "Дан массив 16x16, посчитать сумму по блокам 4x4"
   ]
  },
  {
   "cell_type": "code",
   "execution_count": 13,
   "metadata": {
    "collapsed": false
   },
   "outputs": [
    {
     "name": "stdout",
     "output_type": "stream",
     "text": [
      "[[1. 1. 1. 1. 1. 1. 1. 1. 1. 1. 1. 1. 1. 1. 1. 1.]\n",
      " [1. 1. 1. 1. 1. 1. 1. 1. 1. 1. 1. 1. 1. 1. 1. 1.]\n",
      " [1. 1. 1. 1. 1. 1. 1. 1. 1. 1. 1. 1. 1. 1. 1. 1.]\n",
      " [1. 1. 1. 1. 1. 1. 1. 1. 1. 1. 1. 1. 1. 1. 1. 1.]\n",
      " [1. 1. 1. 1. 1. 1. 1. 1. 1. 1. 1. 1. 1. 1. 1. 1.]\n",
      " [1. 1. 1. 1. 1. 1. 1. 1. 1. 1. 1. 1. 1. 1. 1. 1.]\n",
      " [1. 1. 1. 1. 1. 1. 1. 1. 1. 1. 1. 1. 1. 1. 1. 1.]\n",
      " [1. 1. 1. 1. 1. 1. 1. 1. 1. 1. 1. 1. 1. 1. 1. 1.]\n",
      " [1. 1. 1. 1. 1. 1. 1. 1. 1. 1. 1. 1. 1. 1. 1. 1.]\n",
      " [1. 1. 1. 1. 1. 1. 1. 1. 1. 1. 1. 1. 1. 1. 1. 1.]\n",
      " [1. 1. 1. 1. 1. 1. 1. 1. 1. 1. 1. 1. 1. 1. 1. 1.]\n",
      " [1. 1. 1. 1. 1. 1. 1. 1. 1. 1. 1. 1. 1. 1. 1. 1.]\n",
      " [1. 1. 1. 1. 1. 1. 1. 1. 1. 1. 1. 1. 1. 1. 1. 1.]\n",
      " [1. 1. 1. 1. 1. 1. 1. 1. 1. 1. 1. 1. 1. 1. 1. 1.]\n",
      " [1. 1. 1. 1. 1. 1. 1. 1. 1. 1. 1. 1. 1. 1. 1. 1.]\n",
      " [1. 1. 1. 1. 1. 1. 1. 1. 1. 1. 1. 1. 1. 1. 1. 1.]]\n",
      "[[16. 16. 16. 16.]\n",
      " [16. 16. 16. 16.]\n",
      " [16. 16. 16. 16.]\n",
      " [16. 16. 16. 16.]]\n"
     ]
    }
   ],
   "source": [
    "Z = np.ones((16,16))\n",
    "print(Z)\n",
    "S = np.add.reduceat(np.add.reduceat(Z, np.arange(0, Z.shape[0], 4), axis=0),\n",
    "                                       np.arange(0, Z.shape[1], 4), axis=1)\n",
    "print(S)"
   ]
  },
  {
   "cell_type": "markdown",
   "metadata": {
    "collapsed": false
   },
   "source": [
    "Найти n наибольших значений в массиве"
   ]
  },
  {
   "cell_type": "code",
   "execution_count": 14,
   "metadata": {
    "collapsed": false
   },
   "outputs": [
    {
     "name": "stdout",
     "output_type": "stream",
     "text": [
      "[5 7 7 8 5 9 0 5 4 3]\n",
      "[8 9 7 7 5]\n"
     ]
    }
   ],
   "source": [
    "n=5\n",
    "Z = np.random.randint(0,10,size=10)\n",
    "print(Z)\n",
    "print (Z[np.argpartition(-Z,n)[:n]])"
   ]
  },
  {
   "cell_type": "markdown",
   "metadata": {
    "collapsed": false
   },
   "source": [
    "Построить прямое произведение массивов (все комбинации с каждым элементом)"
   ]
  },
  {
   "cell_type": "code",
   "execution_count": 15,
   "metadata": {
    "collapsed": false
   },
   "outputs": [
    {
     "name": "stdout",
     "output_type": "stream",
     "text": [
      "[[1 4 6]\n",
      " [1 4 7]\n",
      " [1 5 6]\n",
      " [1 5 7]\n",
      " [2 4 6]\n",
      " [2 4 7]\n",
      " [2 5 6]\n",
      " [2 5 7]\n",
      " [3 4 6]\n",
      " [3 4 7]\n",
      " [3 5 6]\n",
      " [3 5 7]]\n"
     ]
    }
   ],
   "source": [
    "def cartesian(arrays):\n",
    "    arrays = [np.asarray(a) for a in arrays]\n",
    "    shape = map(len, arrays)\n",
    "\n",
    "    ix = np.indices(shape, dtype=int)\n",
    "    ix = ix.reshape(len(arrays), -1).T\n",
    "\n",
    "    for n, arr in enumerate(arrays):\n",
    "        ix[:, n] = arrays[n][ix[:, n]]\n",
    "\n",
    "    return ix\n",
    "\n",
    "print(cartesian(([1, 2, 3], [4, 5], [6, 7])))"
   ]
  },
  {
   "cell_type": "markdown",
   "metadata": {
    "collapsed": false
   },
   "source": [
    "Даны 2 массива A (8x3) и B (2x2). Найти строки в A, которые содержат элементы из каждой строки в B, независимо от порядка элементов в B"
   ]
  },
  {
   "cell_type": "code",
   "execution_count": 16,
   "metadata": {
    "collapsed": false
   },
   "outputs": [
    {
     "name": "stdout",
     "output_type": "stream",
     "text": [
      "[0 1 2 3 4 5 6 7]\n"
     ]
    }
   ],
   "source": [
    "A = np.random.randint(0,5,(8,3))\n",
    "B = np.random.randint(0,5,(2,2))\n",
    "\n",
    "C = (A[..., np.newaxis, np.newaxis] == B)\n",
    "rows = (C.sum(axis=(1,2,3)) >= B.shape[1]).nonzero()[0]\n",
    "print(rows)"
   ]
  },
  {
   "cell_type": "markdown",
   "metadata": {
    "collapsed": false
   },
   "source": [
    "Дана 10x3 матрица, найти строки из неравных значений (например [2,2,3])"
   ]
  },
  {
   "cell_type": "code",
   "execution_count": 17,
   "metadata": {
    "collapsed": false
   },
   "outputs": [
    {
     "name": "stdout",
     "output_type": "stream",
     "text": [
      "[[2 0 1]\n",
      " [3 0 4]\n",
      " [1 2 2]\n",
      " [0 1 4]\n",
      " [4 4 3]\n",
      " [3 0 3]\n",
      " [1 3 4]\n",
      " [2 1 0]\n",
      " [0 1 0]\n",
      " [3 2 2]]\n",
      "[[2 0 1]\n",
      " [3 0 4]\n",
      " [1 2 2]\n",
      " [0 1 4]\n",
      " [4 4 3]\n",
      " [3 0 3]\n",
      " [1 3 4]\n",
      " [2 1 0]\n",
      " [0 1 0]\n",
      " [3 2 2]]\n"
     ]
    }
   ],
   "source": [
    "Z = np.random.randint(0,5,(10,3))\n",
    "E = np.logical_and.reduce(Z[:,1:] == Z[:,:-1], axis=1)\n",
    "U = Z[~E]\n",
    "print(Z)\n",
    "print(U)"
   ]
  },
  {
   "cell_type": "markdown",
   "metadata": {
    "collapsed": false
   },
   "source": [
    "Преобразовать вектор чисел в матрицу бинарных представлений"
   ]
  },
  {
   "cell_type": "code",
   "execution_count": 18,
   "metadata": {
    "collapsed": false
   },
   "outputs": [
    {
     "name": "stdout",
     "output_type": "stream",
     "text": [
      "[[0 0 0 0 0 0 0 0]\n",
      " [0 0 0 0 0 0 0 1]\n",
      " [0 0 0 0 0 0 1 0]\n",
      " [0 0 0 0 0 0 1 1]\n",
      " [0 0 0 0 1 1 1 1]\n",
      " [0 0 0 1 0 0 0 0]\n",
      " [0 0 1 0 0 0 0 0]\n",
      " [0 1 0 0 0 0 0 0]\n",
      " [1 0 0 0 0 0 0 0]]\n"
     ]
    }
   ],
   "source": [
    "I = np.array([0, 1, 2, 3, 15, 16, 32, 64, 128], dtype=np.uint8)\n",
    "print(np.unpackbits(I[:, np.newaxis], axis=1))"
   ]
  },
  {
   "cell_type": "markdown",
   "metadata": {
    "collapsed": false
   },
   "source": [
    "Дан двумерный массив. Найти все различные строки"
   ]
  },
  {
   "cell_type": "code",
   "execution_count": 19,
   "metadata": {
    "collapsed": false
   },
   "outputs": [
    {
     "name": "stdout",
     "output_type": "stream",
     "text": [
      "[[0 0 1]\n",
      " [1 0 1]\n",
      " [0 0 1]]\n",
      "[[0 0 1]\n",
      " [1 0 1]]\n"
     ]
    }
   ],
   "source": [
    "Z = np.random.randint(0, 2, (3,3))\n",
    "print(Z)\n",
    "T = np.ascontiguousarray(Z).view(np.dtype((np.void, Z.dtype.itemsize * Z.shape[1])))\n",
    "_, idx = np.unique(T, return_index=True)\n",
    "uZ = Z[idx]\n",
    "print(uZ)"
   ]
  },
  {
   "cell_type": "markdown",
   "metadata": {
    "collapsed": false
   },
   "source": [
    "Даны векторы A и B, написать einsum эквиваленты функций inner, outer, sum и mul"
   ]
  },
  {
   "cell_type": "code",
   "execution_count": 20,
   "metadata": {
    "collapsed": false
   },
   "outputs": [
    {
     "name": "stdout",
     "output_type": "stream",
     "text": [
      "[2 4 3 3 1]\n",
      "[2 3 3 4 1]\n",
      "13.0\n",
      "[ 4 12  9 12  1]\n",
      "38\n",
      "[[ 4  6  6  8  2]\n",
      " [ 8 12 12 16  4]\n",
      " [ 6  9  9 12  3]\n",
      " [ 6  9  9 12  3]\n",
      " [ 2  3  3  4  1]]\n"
     ]
    }
   ],
   "source": [
    "# создаем массив А \n",
    "A = np.random.randint(1,5,5)\n",
    "print(A)\n",
    "# создаем массив Б\n",
    "B = np.random.randint(1,5,5)\n",
    "print(B)\n",
    "print(np.einsum('i,i', A, np.ones(5)) )     # np.sum(A)\n",
    "print(np.einsum('i,i->i', A, B)) # A * B\n",
    "print(np.einsum('i,i', A, B))    # np.inner(A, B)\n",
    "print(np.einsum('i,j', A, B))    # np.outer(A, B)"
   ]
  }
 ],
 "metadata": {
  "kernelspec": {
   "display_name": "Python 3 (system-wide)",
   "language": "python",
   "metadata": {
    "cocalc": {
     "description": "Python 3 programming language",
     "priority": 100,
     "url": "https://www.python.org/"
    }
   },
   "name": "python3"
  },
  "language_info": {
   "codemirror_mode": {
    "name": "ipython",
    "version": 3
   },
   "file_extension": ".py",
   "mimetype": "text/x-python",
   "name": "python",
   "nbconvert_exporter": "python",
   "pygments_lexer": "ipython3",
   "version": "3.8.5"
  }
 },
 "nbformat": 4,
 "nbformat_minor": 4
}

{
  "nbformat": 4,
  "nbformat_minor": 0,
  "metadata": {
    "colab": {
      "name": "Untitled3.ipynb",
      "provenance": [],
      "collapsed_sections": [],
      "authorship_tag": "ABX9TyMEXJm6zGuwAOKUAGAX4wGb",
      "include_colab_link": true
    },
    "kernelspec": {
      "name": "python3",
      "display_name": "Python 3"
    }
  },
  "cells": [
    {
      "cell_type": "markdown",
      "metadata": {
        "id": "view-in-github",
        "colab_type": "text"
      },
      "source": [
        "<a href=\"https://colab.research.google.com/github/natashamazur/pythonlabs/blob/main/LAST_LABA.ipynb\" target=\"_parent\"><img src=\"https://colab.research.google.com/assets/colab-badge.svg\" alt=\"Open In Colab\"/></a>"
      ]
    },
    {
      "cell_type": "code",
      "metadata": {
        "id": "r6wo5FdafHPp"
      },
      "source": [
        "import pandas as pd\n",
        "import numpy as np"
      ],
      "execution_count": 1,
      "outputs": []
    },
    {
      "cell_type": "markdown",
      "metadata": {
        "id": "Exdcbct4fIH3"
      },
      "source": [
        "Прочитать файл CSV и перевести его в DataFrame\n",
        "'https://raw.githubusercontent.com/Grossmend/CSV/master/titanic/data.csv'"
      ]
    },
    {
      "cell_type": "code",
      "metadata": {
        "colab": {
          "base_uri": "https://localhost:8080/"
        },
        "id": "BdUbnHzWfIvr",
        "outputId": "909ef3ce-5f1a-46f5-a5bb-6abf63f445fe"
      },
      "source": [
        "import tempfile\n",
        "import requests\n",
        "url = 'https://raw.githubusercontent.com/Grossmend/CSV/master/titanic/data.csv'\n",
        "r = requests.get(url)\n",
        "tf = tempfile.NamedTemporaryFile()\n",
        "tf.write(bytes(r.text, 'utf=8'))\n",
        "tf.flush()\n",
        "z = pd.read_csv(tf.name)\n",
        "print(z)"
      ],
      "execution_count": 2,
      "outputs": [
        {
          "output_type": "stream",
          "text": [
            "     PassengerId  Survived  Pclass  ...     Fare Cabin  Embarked\n",
            "0              1         0       3  ...   7.2500   NaN         S\n",
            "1              2         1       1  ...  71.2833   C85         C\n",
            "2              3         1       3  ...   7.9250   NaN         S\n",
            "3              4         1       1  ...  53.1000  C123         S\n",
            "4              5         0       3  ...   8.0500   NaN         S\n",
            "..           ...       ...     ...  ...      ...   ...       ...\n",
            "886          887         0       2  ...  13.0000   NaN         S\n",
            "887          888         1       1  ...  30.0000   B42         S\n",
            "888          889         0       3  ...  23.4500   NaN         S\n",
            "889          890         1       1  ...  30.0000  C148         C\n",
            "890          891         0       3  ...   7.7500   NaN         Q\n",
            "\n",
            "[891 rows x 12 columns]\n"
          ],
          "name": "stdout"
        }
      ]
    },
    {
      "cell_type": "markdown",
      "metadata": {
        "id": "aFlPhk3ufI3Y"
      },
      "source": [
        "Прочитать файл CSV (определенные столбцы и определенное кол-во строк) и перевести его в DataFrame\n",
        "'Name', 'Sex', 'Survived'"
      ]
    },
    {
      "cell_type": "code",
      "metadata": {
        "colab": {
          "base_uri": "https://localhost:8080/"
        },
        "id": "_tQBCFaufI-d",
        "outputId": "409e2466-4188-47c8-a05e-e15712ddcd6a"
      },
      "source": [
        "cols = ['Name', 'Sex', 'Survived']\n",
        "row_cnt = 5\n",
        "z = pd.read_csv(tf.name, usecols=['Name', 'Sex', 'Survived'], nrows=row_cnt)\n",
        "print(z)"
      ],
      "execution_count": 3,
      "outputs": [
        {
          "output_type": "stream",
          "text": [
            "   Survived                                               Name     Sex\n",
            "0         0                            Braund, Mr. Owen Harris    male\n",
            "1         1  Cumings, Mrs. John Bradley (Florence Briggs Th...  female\n",
            "2         1                             Heikkinen, Miss. Laina  female\n",
            "3         1       Futrelle, Mrs. Jacques Heath (Lily May Peel)  female\n",
            "4         0                           Allen, Mr. William Henry    male\n"
          ],
          "name": "stdout"
        }
      ]
    },
    {
      "cell_type": "markdown",
      "metadata": {
        "id": "ywgh7loufJGa"
      },
      "source": [
        "Прочитать файл CSV и перевести каждую 100-ую строку в DataFrame"
      ]
    },
    {
      "cell_type": "code",
      "metadata": {
        "colab": {
          "base_uri": "https://localhost:8080/"
        },
        "id": "pZHzKy8sfJMW",
        "outputId": "afa7ca85-4dda-4e00-cb9d-b28022b45107"
      },
      "source": [
        "z = pd.read_csv(tf.name, skiprows=lambda x: x != 0 and (x % 100) != 0)\n",
        "print(z)"
      ],
      "execution_count": 4,
      "outputs": [
        {
          "output_type": "stream",
          "text": [
            "   PassengerId  Survived  Pclass  ...      Fare    Cabin  Embarked\n",
            "0          100         0       2  ...   26.0000      NaN         S\n",
            "1          200         0       2  ...   13.0000      NaN         S\n",
            "2          300         1       1  ...  247.5208  B58 B60         C\n",
            "3          400         1       2  ...   12.6500      NaN         S\n",
            "4          500         0       3  ...    7.7958      NaN         S\n",
            "5          600         1       1  ...   56.9292      A20         C\n",
            "6          700         0       3  ...    7.6500    F G63         S\n",
            "7          800         0       3  ...   24.1500      NaN         S\n",
            "\n",
            "[8 rows x 12 columns]\n"
          ],
          "name": "stdout"
        }
      ]
    },
    {
      "cell_type": "markdown",
      "metadata": {
        "id": "AmdGSp65fJRl"
      },
      "source": [
        "Преобразовать индексы объекта Series в столбец DataFrame"
      ]
    },
    {
      "cell_type": "code",
      "metadata": {
        "colab": {
          "base_uri": "https://localhost:8080/"
        },
        "id": "kWdzsak_fJXI",
        "outputId": "2342dfbe-f005-42c0-8508-d260847ccebb"
      },
      "source": [
        "np_values = np.arange(20)\n",
        "pd_values = pd.Series(np_values, index=np_values*10)\n",
        "df_values = pd.DataFrame(pd_values.index)\n",
        "print(df_values)"
      ],
      "execution_count": 5,
      "outputs": [
        {
          "output_type": "stream",
          "text": [
            "      0\n",
            "0     0\n",
            "1    10\n",
            "2    20\n",
            "3    30\n",
            "4    40\n",
            "5    50\n",
            "6    60\n",
            "7    70\n",
            "8    80\n",
            "9    90\n",
            "10  100\n",
            "11  110\n",
            "12  120\n",
            "13  130\n",
            "14  140\n",
            "15  150\n",
            "16  160\n",
            "17  170\n",
            "18  180\n",
            "19  190\n"
          ],
          "name": "stdout"
        }
      ]
    },
    {
      "cell_type": "markdown",
      "metadata": {
        "id": "Iv6X1BWzfJc7"
      },
      "source": [
        "Посмотреть информацию объекта DataFrame"
      ]
    },
    {
      "cell_type": "code",
      "metadata": {
        "colab": {
          "base_uri": "https://localhost:8080/"
        },
        "id": "UujFZpj4fJiW",
        "outputId": "3f4d298c-c44e-4725-b018-465a2d7829e8"
      },
      "source": [
        "print('Информация объекта DataFrame:')\n",
        "print(df_values.info)"
      ],
      "execution_count": 6,
      "outputs": [
        {
          "output_type": "stream",
          "text": [
            "Информация объекта DataFrame:\n",
            "<bound method DataFrame.info of       0\n",
            "0     0\n",
            "1    10\n",
            "2    20\n",
            "3    30\n",
            "4    40\n",
            "5    50\n",
            "6    60\n",
            "7    70\n",
            "8    80\n",
            "9    90\n",
            "10  100\n",
            "11  110\n",
            "12  120\n",
            "13  130\n",
            "14  140\n",
            "15  150\n",
            "16  160\n",
            "17  170\n",
            "18  180\n",
            "19  190>\n"
          ],
          "name": "stdout"
        }
      ]
    },
    {
      "cell_type": "markdown",
      "metadata": {
        "id": "KoZr6pFqfJn0"
      },
      "source": [
        "Вывести формат каждого столбца"
      ]
    },
    {
      "cell_type": "code",
      "metadata": {
        "colab": {
          "base_uri": "https://localhost:8080/"
        },
        "id": "OquC4inMfJtM",
        "outputId": "bca40c87-60b0-4f11-cda8-3d7e8116611a"
      },
      "source": [
        "print('Формат каждого столбца:')\n",
        "print(df_values.dtypes)"
      ],
      "execution_count": 7,
      "outputs": [
        {
          "output_type": "stream",
          "text": [
            "Формат каждого столбца:\n",
            "0    int64\n",
            "dtype: object\n"
          ],
          "name": "stdout"
        }
      ]
    },
    {
      "cell_type": "markdown",
      "metadata": {
        "id": "Hf-D-WC2fJyW"
      },
      "source": [
        "Вывести размерность DataFrame"
      ]
    },
    {
      "cell_type": "code",
      "metadata": {
        "colab": {
          "base_uri": "https://localhost:8080/"
        },
        "id": "SBKSUG8_fJ30",
        "outputId": "0a5ed027-ae38-4ac9-8f40-586a0537c5ee"
      },
      "source": [
        "print('Размерность DataFrame:')\n",
        "print(df_values.shape)"
      ],
      "execution_count": 8,
      "outputs": [
        {
          "output_type": "stream",
          "text": [
            "Размерность DataFrame:\n",
            "(20, 1)\n"
          ],
          "name": "stdout"
        }
      ]
    },
    {
      "cell_type": "markdown",
      "metadata": {
        "id": "WczqrlnTfJ88"
      },
      "source": [
        "Вывести общую статистика"
      ]
    },
    {
      "cell_type": "code",
      "metadata": {
        "colab": {
          "base_uri": "https://localhost:8080/"
        },
        "id": "ZPBY9MpVfKDz",
        "outputId": "e50db076-d9b5-4e2e-bcde-26e4448566d2"
      },
      "source": [
        "print('Общая статистика DataFrame')\n",
        "print(df_values.describe())"
      ],
      "execution_count": 9,
      "outputs": [
        {
          "output_type": "stream",
          "text": [
            "Общая статистика DataFrame\n",
            "                0\n",
            "count   20.000000\n",
            "mean    95.000000\n",
            "std     59.160798\n",
            "min      0.000000\n",
            "25%     47.500000\n",
            "50%     95.000000\n",
            "75%    142.500000\n",
            "max    190.000000\n"
          ],
          "name": "stdout"
        }
      ]
    }
  ]
}
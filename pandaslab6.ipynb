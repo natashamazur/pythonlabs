{
  "nbformat": 4,
  "nbformat_minor": 0,
  "metadata": {
    "colab": {
      "name": "Untitled0.ipynb",
      "provenance": [],
      "authorship_tag": "ABX9TyN3ts5mvqpXG1JCsgcfC/X9",
      "include_colab_link": true
    },
    "kernelspec": {
      "name": "python3",
      "display_name": "Python 3"
    }
  },
  "cells": [
    {
      "cell_type": "markdown",
      "metadata": {
        "id": "view-in-github",
        "colab_type": "text"
      },
      "source": [
        "<a href=\"https://colab.research.google.com/github/natashamazur/pythonlabs/blob/main/pandaslab6.ipynb\" target=\"_parent\"><img src=\"https://colab.research.google.com/assets/colab-badge.svg\" alt=\"Open In Colab\"/></a>"
      ]
    },
    {
      "cell_type": "code",
      "metadata": {
        "id": "hsD12KkB3A1W"
      },
      "source": [
        "import numpy as np\n",
        "import pandas as pd"
      ],
      "execution_count": 1,
      "outputs": []
    },
    {
      "cell_type": "markdown",
      "metadata": {
        "id": "xFY1nf503ZVg"
      },
      "source": [
        "1. Найти евклидово расстоняие между двумя объектами Series"
      ]
    },
    {
      "cell_type": "code",
      "metadata": {
        "colab": {
          "base_uri": "https://localhost:8080/"
        },
        "id": "jOzEmkEh3kdu",
        "outputId": "3359290f-570a-48bd-ac15-fc72c0feac68"
      },
      "source": [
        "n = 3\n",
        "\n",
        "s1 = pd.Series(np.random.randint(low=1, high=10, size=[n]))\n",
        "s2 = pd.Series(np.random.randint(low=1, high=10, size=[n]))\n",
        "ans = np.linalg.norm(s1-s2)\n",
        "print(ans)\n"
      ],
      "execution_count": 21,
      "outputs": [
        {
          "output_type": "stream",
          "text": [
            "5.385164807134504\n"
          ],
          "name": "stdout"
        }
      ]
    },
    {
      "cell_type": "markdown",
      "metadata": {
        "id": "LN7v-ifQ3qaM"
      },
      "source": [
        "2. Найти индексы локальных максимумов в объекте Series"
      ]
    },
    {
      "cell_type": "code",
      "metadata": {
        "colab": {
          "base_uri": "https://localhost:8080/"
        },
        "id": "BekcPq3q34O3",
        "outputId": "d42ad776-cf31-4bcb-ab04-73bc73f741f6"
      },
      "source": [
        "s = pd.Series([1, 5, 7, 11, 8, 4, 12, 5, 8, 16, 8])\n",
        "\n",
        "dd = np.diff(np.sign(np.diff(s)))\n",
        "ans = np.where(dd == -2)[0] + 1\n",
        "print(ans)"
      ],
      "execution_count": 3,
      "outputs": [
        {
          "output_type": "stream",
          "text": [
            "[3 6 9]\n"
          ],
          "name": "stdout"
        }
      ]
    },
    {
      "cell_type": "markdown",
      "metadata": {
        "id": "wpHz1LNI4Biw"
      },
      "source": [
        "3. Заменить пробелы наименее часто встречающимся символом"
      ]
    },
    {
      "cell_type": "code",
      "metadata": {
        "colab": {
          "base_uri": "https://localhost:8080/",
          "height": 35
        },
        "id": "IaKnI53b4G18",
        "outputId": "eb0a30fc-7e91-41bb-cac5-b70847e06b2a"
      },
      "source": [
        "str_test = 'abc bcb be bebb'\n",
        " \n",
        "s = pd.Series(list(str_test))\n",
        "freq = s.value_counts()\n",
        "least_freq = freq.dropna().index[-1]\n",
        "''.join(s.replace(' ', least_freq))\n"
      ],
      "execution_count": 25,
      "outputs": [
        {
          "output_type": "execute_result",
          "data": {
            "application/vnd.google.colaboratory.intrinsic+json": {
              "type": "string"
            },
            "text/plain": [
              "'abcabcbabeabebb'"
            ]
          },
          "metadata": {
            "tags": []
          },
          "execution_count": 25
        }
      ]
    },
    {
      "cell_type": "markdown",
      "metadata": {
        "id": "0Y_EMYsl4Rj4"
      },
      "source": [
        "4. Создать объект Series, который содержит в индексах даты выходных дней субботы,\n",
        "а в значениях случайные числа от 1 до 10"
      ]
    },
    {
      "cell_type": "code",
      "metadata": {
        "colab": {
          "base_uri": "https://localhost:8080/"
        },
        "id": "oGhoRsrZ43II",
        "outputId": "64297139-2e64-43a3-8769-ea9e2826276b"
      },
      "source": [
        "s = pd.Series(np.random.randint(low=1,high=10,size=[10]), pd.date_range('2018-01-01', periods=10, freq='W-SAT'))\n",
        "print(s)"
      ],
      "execution_count": 5,
      "outputs": [
        {
          "output_type": "stream",
          "text": [
            "2018-01-06    5\n",
            "2018-01-13    6\n",
            "2018-01-20    4\n",
            "2018-01-27    4\n",
            "2018-02-03    6\n",
            "2018-02-10    7\n",
            "2018-02-17    4\n",
            "2018-02-24    5\n",
            "2018-03-03    6\n",
            "2018-03-10    5\n",
            "Freq: W-SAT, dtype: int64\n"
          ],
          "name": "stdout"
        }
      ]
    },
    {
      "cell_type": "markdown",
      "metadata": {
        "id": "PB76ch6p5Cip"
      },
      "source": [
        "5. Заполнить пропущенные даты, значением выше (заполненной даты)"
      ]
    },
    {
      "cell_type": "code",
      "metadata": {
        "colab": {
          "base_uri": "https://localhost:8080/"
        },
        "id": "FwRAuWFc5JN6",
        "outputId": "47e7b014-b2e6-4bd1-f57a-f14247afab18"
      },
      "source": [
        "s = pd.Series([2, 5, 8, np.nan], index=pd.to_datetime(['2018-01-01', '2018-01-03', '2018-01-06', '2018-01-08']))\n",
        "ans = s.resample('D').ffill()\n",
        "ans2 = s.resample('D').bfill()\n",
        "print(ans)"
      ],
      "execution_count": 54,
      "outputs": [
        {
          "output_type": "stream",
          "text": [
            "2018-01-01    2.0\n",
            "2018-01-02    2.0\n",
            "2018-01-03    5.0\n",
            "2018-01-04    5.0\n",
            "2018-01-05    5.0\n",
            "2018-01-06    8.0\n",
            "2018-01-07    8.0\n",
            "2018-01-08    NaN\n",
            "Freq: D, dtype: float64\n"
          ],
          "name": "stdout"
        }
      ]
    },
    {
      "cell_type": "markdown",
      "metadata": {
        "id": "xxK2oKcX5OwG"
      },
      "source": [
        "6. Вычислить автокорреляцию объекта Series"
      ]
    },
    {
      "cell_type": "code",
      "metadata": {
        "colab": {
          "base_uri": "https://localhost:8080/"
        },
        "id": "8b9hPvbB5aIP",
        "outputId": "5caa4c1d-8e30-4490-cf16-e39c5b01c6b4"
      },
      "source": [
        "n = 8\n",
        " \n",
        "s = pd.Series(np.arange(n))\n",
        "s = s + np.random.normal(1, 3, n)\n",
        " \n",
        "autocorr = [s.autocorr(lag=i).round(2) for i in range(n)]\n",
        " \n",
        "print(autocorr)"
      ],
      "execution_count": 79,
      "outputs": [
        {
          "output_type": "stream",
          "text": [
            "[1.0, 0.56, 0.37, -0.44, 0.02, -0.78, 1.0, nan]\n"
          ],
          "name": "stdout"
        },

      ]
    }
  ]
}

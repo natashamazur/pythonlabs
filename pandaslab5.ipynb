{
  "nbformat": 4,
  "nbformat_minor": 0,
  "metadata": {
    "colab": {
      "name": "Copy of Untitled0.ipynb",
      "provenance": [],
      "collapsed_sections": [],
      "include_colab_link": true
    },
    "kernelspec": {
      "name": "python3",
      "display_name": "Python 3"
    }
  },
  "cells": [
    {
      "cell_type": "markdown",
      "metadata": {
        "id": "view-in-github",
        "colab_type": "text"
      },
      "source": [
        "<a href=\"https://colab.research.google.com/github/natashamazur/pythonlabs/blob/main/pandaslab5.ipynb\" target=\"_parent\"><img src=\"https://colab.research.google.com/assets/colab-badge.svg\" alt=\"Open In Colab\"/></a>"
      ]
    },
    {
      "cell_type": "code",
      "metadata": {
        "id": "fpbafh0J2U5A"
      },
      "source": [
        "import numpy as np\n",
        "import pandas as pd"
      ],
      "execution_count": 1,
      "outputs": []
    },
    {
      "cell_type": "markdown",
      "metadata": {
        "id": "KdBgVtWF2w_6"
      },
      "source": [
        "Получить от объекта Series показатели описательной статистики"
      ]
    },
    {
      "cell_type": "code",
      "metadata": {
        "id": "W3p5f__Y2zv0",
        "colab": {
          "base_uri": "https://localhost:8080/"
        },
        "outputId": "620cfb4e-d1f7-4984-ce57-80fa28840e36"
      },
      "source": [
        "state = np.random.RandomState(42)\n",
        " \n",
        "s = pd.Series(state.normal(10, 5, 25))\n",
        "pkz = s.describe()\n",
        "print(pkz)"
      ],
      "execution_count": 2,
      "outputs": [
        {
          "output_type": "stream",
          "text": [
            "count    25.000000\n",
            "mean      9.182460\n",
            "std       4.782765\n",
            "min       0.433599\n",
            "25%       7.188562\n",
            "50%       8.829315\n",
            "75%      12.483571\n",
            "max      17.896064\n",
            "dtype: float64\n"
          ],
          "name": "stdout"
        }
      ]
    },
    {
      "cell_type": "markdown",
      "metadata": {
        "id": "ViPADgYC302v"
      },
      "source": [
        "Узнать частоту уникальных элементов объекта Series (гистограмма)"
      ]
    },
    {
      "cell_type": "code",
      "metadata": {
        "colab": {
          "base_uri": "https://localhost:8080/"
        },
        "id": "xZLIJ5g54I1o",
        "outputId": "f2dd24f5-626d-4b17-e4df-3830e747570c"
      },
      "source": [
        "data = 'abcdefghik'\n",
        "len_series = 30\n",
        "s = pd.Series(np.take(list(data), np.random.randint(len(data), size=len_series)))\n",
        "print(s)\n",
        "# считаем число вхождений\n",
        "ans = s.value_counts()\n",
        " \n",
        "print(ans)\n"
      ],
      "execution_count": 3,
      "outputs": [
        {
          "output_type": "stream",
          "text": [
            "0     e\n",
            "1     e\n",
            "2     a\n",
            "3     c\n",
            "4     b\n",
            "5     e\n",
            "6     d\n",
            "7     g\n",
            "8     h\n",
            "9     e\n",
            "10    g\n",
            "11    k\n",
            "12    c\n",
            "13    h\n",
            "14    h\n",
            "15    a\n",
            "16    k\n",
            "17    c\n",
            "18    g\n",
            "19    g\n",
            "20    h\n",
            "21    d\n",
            "22    f\n",
            "23    c\n",
            "24    e\n",
            "25    g\n",
            "26    b\n",
            "27    h\n",
            "28    f\n",
            "29    g\n",
            "dtype: object\n",
            "g    6\n",
            "h    5\n",
            "e    5\n",
            "c    4\n",
            "k    2\n",
            "b    2\n",
            "d    2\n",
            "a    2\n",
            "f    2\n",
            "dtype: int64\n"
          ],
          "name": "stdout"
        }
      ]
    },
    {
      "cell_type": "markdown",
      "metadata": {
        "id": "C3xknLLC4X9S"
      },
      "source": [
        "Заменить все элементы объекта Series на \"Other\", кроме двух наиболее часто встречающихся"
      ]
    },
    {
      "cell_type": "code",
      "metadata": {
        "colab": {
          "base_uri": "https://localhost:8080/"
        },
        "id": "xT_ny9cI4hHT",
        "outputId": "cd4d3639-b261-4faf-986c-e5c57f5fc210"
      },
      "source": [
        "state = np.random.RandomState(42)\n",
        "s = pd.Series(state.randint(low=1, high=5, size=[13]))\n",
        "print(s.value_counts())\n",
        "s[~s.isin(s.value_counts().index[:2])] = 'Other'\n",
        "print(s)"
      ],
      "execution_count": 4,
      "outputs": [
        {
          "output_type": "stream",
          "text": [
            "3    7\n",
            "1    3\n",
            "4    2\n",
            "2    1\n",
            "dtype: int64\n",
            "0         3\n",
            "1     Other\n",
            "2         1\n",
            "3         3\n",
            "4         3\n",
            "5     Other\n",
            "6         1\n",
            "7         1\n",
            "8         3\n",
            "9     Other\n",
            "10        3\n",
            "11        3\n",
            "12        3\n",
            "dtype: object\n"
          ],
          "name": "stdout"
        }
      ]
    },
    {
      "cell_type": "markdown",
      "metadata": {
        "id": "pQYLxCHR4zdg"
      },
      "source": [
        "Создать объект Series в индексах дата каждый день 2018 года, в значениях случайное значение"
      ]
    },
    {
      "cell_type": "code",
      "metadata": {
        "id": "0WGdm8YV5TVR",
        "colab": {
          "base_uri": "https://localhost:8080/"
        },
        "outputId": "605f4ef0-fa7d-4348-e341-dcc506d3d1ee"
      },
      "source": [
        "dti = pd.date_range(start='2018-01-01', end='2018-12-31', freq='B') \n",
        "s = pd.Series(np.random.rand(len(dti)), index=dti)\n",
        "print(s)"
      ],
      "execution_count": 5,
      "outputs": [
        {
          "output_type": "stream",
          "text": [
            "2018-01-01    0.386633\n",
            "2018-01-02    0.204945\n",
            "2018-01-03    0.386405\n",
            "2018-01-04    0.786505\n",
            "2018-01-05    0.816991\n",
            "                ...   \n",
            "2018-12-25    0.241069\n",
            "2018-12-26    0.532799\n",
            "2018-12-27    0.418817\n",
            "2018-12-28    0.067683\n",
            "2018-12-31    0.252656\n",
            "Freq: B, Length: 261, dtype: float64\n"
          ],
          "name": "stdout"
        }
      ]
    },
    {
      "cell_type": "markdown",
      "metadata": {
        "id": "HJ_0z7IL5BwL"
      },
      "source": [
        "Найдем сумму всех вторников"
      ]
    },
    {
      "cell_type": "code",
      "metadata": {
        "id": "KscLDtpG5YuI",
        "colab": {
          "base_uri": "https://localhost:8080/"
        },
        "outputId": "a3d3d65d-5cac-4489-df03-ea5dcecbfca0"
      },
      "source": [
        "ans1 = s[s.index.weekday == 2].sum()\n",
        "print('Сумма всех \"вторников\"', ans1)"
      ],
      "execution_count": 6,
      "outputs": [
        {
          "output_type": "stream",
          "text": [
            "Сумма всех \"вторников\" 26.55707194156085\n"
          ],
          "name": "stdout"
        }
      ]
    },
    {
      "cell_type": "markdown",
      "metadata": {
        "id": "jcU4qHOJ5dh6"
      },
      "source": [
        "Для каждого месяца среднее значение"
      ]
    },
    {
      "cell_type": "code",
      "metadata": {
        "id": "0iRWKGR_5mPI",
        "colab": {
          "base_uri": "https://localhost:8080/"
        },
        "outputId": "2770a263-7a74-4333-f3f0-9b0906ac5e90"
      },
      "source": [
        "ans2 = s.resample('M').mean()\n",
        "print('Средние значения по месяцам:\\n', ans2)"
      ],
      "execution_count": 7,
      "outputs": [
        {
          "output_type": "stream",
          "text": [
            "Средние значения по месяцам:\n",
            " 2018-01-31    0.600560\n",
            "2018-02-28    0.519174\n",
            "2018-03-31    0.551338\n",
            "2018-04-30    0.463576\n",
            "2018-05-31    0.479567\n",
            "2018-06-30    0.534282\n",
            "2018-07-31    0.634159\n",
            "2018-08-31    0.534627\n",
            "2018-09-30    0.654060\n",
            "2018-10-31    0.517582\n",
            "2018-11-30    0.504486\n",
            "2018-12-31    0.499324\n",
            "Freq: M, dtype: float64\n"
          ],
          "name": "stdout"
        }
      ]
    },
    {
      "cell_type": "markdown",
      "metadata": {
        "id": "iC_4PiTk5xQW"
      },
      "source": [
        "Преобразовать объект Series в DataFrame заданной формы (shape)"
      ]
    },
    {
      "cell_type": "code",
      "metadata": {
        "id": "ZFdt9npG53Au",
        "colab": {
          "base_uri": "https://localhost:8080/"
        },
        "outputId": "f93a477f-7c41-40ec-8d43-abce0873a737"
      },
      "source": [
        "s = pd.Series(np.random.randint(low=1, high=10, size=[35]))\n",
        "print(s)"
      ],
      "execution_count": 8,
      "outputs": [
        {
          "output_type": "stream",
          "text": [
            "0     4\n",
            "1     3\n",
            "2     3\n",
            "3     3\n",
            "4     1\n",
            "5     5\n",
            "6     9\n",
            "7     2\n",
            "8     7\n",
            "9     2\n",
            "10    6\n",
            "11    6\n",
            "12    1\n",
            "13    2\n",
            "14    7\n",
            "15    2\n",
            "16    6\n",
            "17    4\n",
            "18    9\n",
            "19    1\n",
            "20    4\n",
            "21    9\n",
            "22    6\n",
            "23    7\n",
            "24    6\n",
            "25    1\n",
            "26    3\n",
            "27    8\n",
            "28    6\n",
            "29    4\n",
            "30    7\n",
            "31    9\n",
            "32    1\n",
            "33    1\n",
            "34    4\n",
            "dtype: int64\n"
          ],
          "name": "stdout"
        }
      ]
    },
    {
      "cell_type": "markdown",
      "metadata": {
        "id": "-xgod4Pw5-4S"
      },
      "source": [
        "Преобразование в reshape"
      ]
    },
    {
      "cell_type": "code",
      "metadata": {
        "id": "rsPNH7fW6Egx",
        "colab": {
          "base_uri": "https://localhost:8080/"
        },
        "outputId": "10711a76-21c7-4733-9409-b84583ca397b"
      },
      "source": [
        "r = (7, 5)\n",
        " \n",
        "if r[0] * r[1] != len(s):\n",
        "    sys.exit('не возможно применить reshape')\n",
        "    \n",
        "df = pd.DataFrame(s.values.reshape(r))\n",
        " \n",
        "print(df)"
      ],
      "execution_count": 9,
      "outputs": [
        {
          "output_type": "stream",
          "text": [
            "   0  1  2  3  4\n",
            "0  4  3  3  3  1\n",
            "1  5  9  2  7  2\n",
            "2  6  6  1  2  7\n",
            "3  2  6  4  9  1\n",
            "4  4  9  6  7  6\n",
            "5  1  3  8  6  4\n",
            "6  7  9  1  1  4\n"
          ],
          "name": "stdout"
        }
      ]
    },
    {
      "cell_type": "markdown",
      "metadata": {
        "id": "1Nb2ocsu6KEe"
      },
      "source": [
        "Найти индексы объекта Series кратные 3"
      ]
    },
    {
      "cell_type": "code",
      "metadata": {
        "id": "4Ya6CgAf6NeZ",
        "colab": {
          "base_uri": "https://localhost:8080/"
        },
        "outputId": "02e2e250-0c43-47b7-9711-166b53aabf0e"
      },
      "source": [
        "s = pd.Series(np.random.randint(low=1, high=10, size=[7]))\n",
        "print(s)\n",
        " \n",
        "ans2 = s[s % 3 == 0].index\n",
        "print(ans2)"
      ],
      "execution_count": 10,
      "outputs": [
        {
          "output_type": "stream",
          "text": [
            "0    9\n",
            "1    1\n",
            "2    4\n",
            "3    1\n",
            "4    8\n",
            "5    1\n",
            "6    4\n",
            "dtype: int64\n",
            "Int64Index([0], dtype='int64')\n"
          ],
          "name": "stdout"
        }
      ]
    },
    {
      "cell_type": "markdown",
      "metadata": {
        "id": "QQsssNjq6TUF"
      },
      "source": [
        "Получить данные по индексам объекта Series"
      ]
    },
    {
      "cell_type": "code",
      "metadata": {
        "id": "j5QvL-Fp6W01",
        "colab": {
          "base_uri": "https://localhost:8080/"
        },
        "outputId": "394bfc5f-8acf-4035-bdde-25e42cf6b2d6"
      },
      "source": [
        "s = pd.Series(list('abcdefghijklmnopqrstuvwxyz'))\n",
        "p = [0, 4, 8, 14, 20, 10]\n",
        " \n",
        "ans1 = s[p]\n",
        "print(ans1)"
      ],
      "execution_count": 11,
      "outputs": [
        {
          "output_type": "stream",
          "text": [
            "0     a\n",
            "4     e\n",
            "8     i\n",
            "14    o\n",
            "20    u\n",
            "10    k\n",
            "dtype: object\n"
          ],
          "name": "stdout"
        }
      ]
    },
    {
      "cell_type": "markdown",
      "metadata": {
        "id": "Z1ie1c2N6cPi"
      },
      "source": [
        "Объединить два объекта Series вертикально и горизонтально"
      ]
    },
    {
      "cell_type": "code",
      "metadata": {
        "id": "pi8Q-7Da6glY",
        "colab": {
          "base_uri": "https://localhost:8080/"
        },
        "outputId": "746f35b8-4b98-4316-b043-a3a186d10742"
      },
      "source": [
        "s1 = pd.Series(range(5))\n",
        "s2 = pd.Series(list('abcde'))\n",
        " \n",
        "ans_vertical = s1.append(s2)\n",
        "ans_horizontal = pd.concat([s1, s2], axis=1)\n",
        " \n",
        "print(ans_vertical)\n",
        "print(ans_horizontal)"
      ],
      "execution_count": 12,
      "outputs": [
        {
          "output_type": "stream",
          "text": [
            "0    0\n",
            "1    1\n",
            "2    2\n",
            "3    3\n",
            "4    4\n",
            "0    a\n",
            "1    b\n",
            "2    c\n",
            "3    d\n",
            "4    e\n",
            "dtype: object\n",
            "   0  1\n",
            "0  0  a\n",
            "1  1  b\n",
            "2  2  c\n",
            "3  3  d\n",
            "4  4  e\n"
          ],
          "name": "stdout"
        }
      ]
    },
    {
      "cell_type": "markdown",
      "metadata": {
        "id": "K-UF5fdX6ld4"
      },
      "source": [
        "Получить индексы объекта Series A, данные которых содержатся в объетке Series B"
      ]
    },
    {
      "cell_type": "code",
      "metadata": {
        "id": "1_ksrErp6pHO",
        "colab": {
          "base_uri": "https://localhost:8080/"
        },
        "outputId": "cc289a2b-59d2-4e96-b754-9b611a1f1398"
      },
      "source": [
        "s1 = pd.Series([5, 3, 2, 1, 4, 11, 13, 8, 7])\n",
        "s2 = pd.Series([1, 5, 13, 2])\n",
        "\n",
        "ans3 = s1[s1.isin(s2)].index\n",
        "print(ans3)"
      ],
      "execution_count": 13,
      "outputs": [
        {
          "output_type": "stream",
          "text": [
            "Int64Index([0, 2, 3, 6], dtype='int64')\n"
          ],
          "name": "stdout"
        }
      ]
    },
    {
      "cell_type": "markdown",
      "metadata": {
        "id": "Ca4b_9iU7gFH"
      },
      "source": [
        "Получить объект Series B, котоырй содержит элементы без повторений объекта A"
      ]
    },
    {
      "cell_type": "code",
      "metadata": {
        "id": "WM42iF3j7rf1",
        "colab": {
          "base_uri": "https://localhost:8080/"
        },
        "outputId": "8b483965-ad36-4598-ccb2-270d50b07e63"
      },
      "source": [
        "s = pd.Series(np.random.randint(low=1, high=10, size=[10]))\n",
        "print(s)\n",
        "ans = pd.Series(s.unique())\n",
        "print(ans)"
      ],
      "execution_count": 14,
      "outputs": [
        {
          "output_type": "stream",
          "text": [
            "0    3\n",
            "1    2\n",
            "2    4\n",
            "3    1\n",
            "4    4\n",
            "5    7\n",
            "6    8\n",
            "7    3\n",
            "8    2\n",
            "9    4\n",
            "dtype: int64\n",
            "0    3\n",
            "1    2\n",
            "2    4\n",
            "3    1\n",
            "4    7\n",
            "5    8\n",
            "dtype: int64\n"
          ],
          "name": "stdout"
        }
      ]
    },
    {
      "cell_type": "markdown",
      "metadata": {
        "id": "CvVcwCUJ7t_l"
      },
      "source": [
        "Преобразовать каждый символ объекта Series в верхний регистр"
      ]
    },
    {
      "cell_type": "code",
      "metadata": {
        "id": "xEiXOFWm71xO",
        "colab": {
          "base_uri": "https://localhost:8080/"
        },
        "outputId": "c8ea090b-9ced-4ed2-88f0-74449cccdabf"
      },
      "source": [
        "s = pd.Series(['life', 'is', 'interesting'])\n",
        "ans2 = pd.Series(i.upper() for i in s)\n",
        "print(ans2)"
      ],
      "execution_count": 15,
      "outputs": [
        {
          "output_type": "stream",
          "text": [
            "0           LIFE\n",
            "1             IS\n",
            "2    INTERESTING\n",
            "dtype: object\n"
          ],
          "name": "stdout"
        }
      ]
    },
    {
      "cell_type": "markdown",
      "metadata": {
        "id": "A1kyIK8E74vf"
      },
      "source": [
        "Преобразование данных Series в строку"
      ]
    },
    {
      "cell_type": "code",
      "metadata": {
        "id": "V-oogrbU8IZE",
        "colab": {
          "base_uri": "https://localhost:8080/"
        },
        "outputId": "f6340587-848d-4686-b260-cdf7b47e17c5"
      },
      "source": [
        "a = pd.Series(np.arange(5))\n",
        "print(a)\n",
        "s = pd.Series(str(i) for i in a)\n",
        "print(s)"
      ],
      "execution_count": 16,
      "outputs": [
        {
          "output_type": "stream",
          "text": [
            "0    0\n",
            "1    1\n",
            "2    2\n",
            "3    3\n",
            "4    4\n",
            "dtype: int64\n",
            "0    0\n",
            "1    1\n",
            "2    2\n",
            "3    3\n",
            "4    4\n",
            "dtype: object\n"
          ],
          "name": "stdout"
        }
      ]
    },
    {
      "cell_type": "markdown",
      "metadata": {
        "id": "QvxHj45k8LmJ"
      },
      "source": [
        "Рассчитать количество символов в объекте Series"
      ]
    },
    {
      "cell_type": "code",
      "metadata": {
        "id": "-7lGPMBm8Te1",
        "colab": {
          "base_uri": "https://localhost:8080/"
        },
        "outputId": "2b9baf96-0215-4ada-dc2a-f2c1eeb502e4"
      },
      "source": [
        "s = pd.Series(['one', 'two', 'three', 'four', 'five'])\n",
        "ans2 = np.asarray([len(i) for i in s])\n",
        "print(ans2)"
      ],
      "execution_count": 17,
      "outputs": [
        {
          "output_type": "stream",
          "text": [
            "[3 3 5 4 4]\n"
          ],
          "name": "stdout"
        }
      ]
    },
    {
      "cell_type": "markdown",
      "metadata": {
        "id": "wUfk3LwH8ZFk"
      },
      "source": [
        "Преобразование в строковый тип"
      ]
    },
    {
      "cell_type": "code",
      "metadata": {
        "id": "exejKcL98Xeo",
        "colab": {
          "base_uri": "https://localhost:8080/"
        },
        "outputId": "6cdb62be-b22a-4b3f-82f8-33111913e90d"
      },
      "source": [
        "a = pd.Series(np.arange(5))\n",
        "print(a)\n",
        "s = pd.Series(str(i) for i in a)\n",
        "print(s)"
      ],
      "execution_count": 18,
      "outputs": [
        {
          "output_type": "stream",
          "text": [
            "0    0\n",
            "1    1\n",
            "2    2\n",
            "3    3\n",
            "4    4\n",
            "dtype: int64\n",
            "0    0\n",
            "1    1\n",
            "2    2\n",
            "3    3\n",
            "4    4\n",
            "dtype: object\n"
          ],
          "name": "stdout"
        }
      ]
    },
    {
      "cell_type": "markdown",
      "metadata": {
        "id": "8shnOPKM8fXg"
      },
      "source": [
        "Найти разность между объектом Series и смещением объекта Series на n"
      ]
    },
    {
      "cell_type": "code",
      "metadata": {
        "id": "AgNl6e_b8euV",
        "colab": {
          "base_uri": "https://localhost:8080/"
        },
        "outputId": "caf3be4f-cc53-4989-f2d6-e412e780046d"
      },
      "source": [
        "n = 1\n",
        " \n",
        "s = pd.Series([1, 5, 7, 8, 12, 15, 17])\n",
        " \n",
        "ans = s.diff(periods=n)\n",
        " \n",
        "print(ans)"
      ],
      "execution_count": 19,
      "outputs": [
        {
          "output_type": "stream",
          "text": [
            "0    NaN\n",
            "1    4.0\n",
            "2    2.0\n",
            "3    1.0\n",
            "4    4.0\n",
            "5    3.0\n",
            "6    2.0\n",
            "dtype: float64\n"
          ],
          "name": "stdout"
        }
      ]
    },
    {
      "cell_type": "markdown",
      "metadata": {
        "id": "Gp-_i4Ah8x9H"
      },
      "source": [
        "Преобразовать разыне форматы строк объекта Series в дату"
      ]
    },
    {
      "cell_type": "code",
      "metadata": {
        "id": "5jacP08D81pf",
        "colab": {
          "base_uri": "https://localhost:8080/"
        },
        "outputId": "f635258a-43fe-4046-ddc0-f26d6e88c3ce"
      },
      "source": [
        "s = pd.Series(['2017/01/01', '2015-02-02', '15 Jan 2019'])\n",
        " \n",
        "ans = pd.to_datetime(s)\n",
        " \n",
        "print(ans)"
      ],
      "execution_count": 20,
      "outputs": [
        {
          "output_type": "stream",
          "text": [
            "0   2017-01-01\n",
            "1   2015-02-02\n",
            "2   2019-01-15\n",
            "dtype: datetime64[ns]\n"
          ],
          "name": "stdout"
        }
      ]
    },
    {
      "cell_type": "markdown",
      "metadata": {
        "id": "PG0_WCM-9qtu"
      },
      "source": [
        "Поскольку работа с датой часто встречается в работе, то см. еще один пример"
      ]
    },
    {
      "cell_type": "code",
      "metadata": {
        "id": "47_Rkbd892uv",
        "colab": {
          "base_uri": "https://localhost:8080/"
        },
        "outputId": "255fe1fa-f35e-4a78-f5a8-5ba9f300d0f1"
      },
      "source": [
        "# все данные должны иметь одинаковый формат (часто бывает выгрузка из SQL)\n",
        "s = pd.Series(['14.02.2019', '22.01.2019', '01.03.2019'])\n",
        " \n",
        "# преобразование в дату\n",
        "ans = pd.to_datetime(s, format='%d.%m.%Y')\n",
        " \n",
        "print(ans)"
      ],
      "execution_count": 21,
      "outputs": [
        {
          "output_type": "stream",
          "text": [
            "0   2019-02-14\n",
            "1   2019-01-22\n",
            "2   2019-03-01\n",
            "dtype: datetime64[ns]\n"
          ],
          "name": "stdout"
        }
      ]
    },
    {
      "cell_type": "markdown",
      "metadata": {
        "id": "gd5BIfCW950N"
      },
      "source": [
        "Получить год, месяц, день, день недели, номер дня в году от объекта Series (string)"
      ]
    },
    {
      "cell_type": "code",
      "metadata": {
        "id": "3R6MeidW9-Ci",
        "colab": {
          "base_uri": "https://localhost:8080/"
        },
        "outputId": "acf620aa-5616-4c2a-d7c0-6fb0f811bbf4"
      },
      "source": [
        "from dateutil.parser import parse\n",
        " \n",
        "s = pd.Series(['01 Jan 2018', '02-02-2011', '20120303', '2013/04/04', '2018-12-31'])\n",
        " \n",
        "# парсим в дату и время\n",
        "s_ts = s.map(lambda x: parse(x, yearfirst=True))\n",
        " \n",
        "# получаем года\n",
        "print(s_ts.dt.year)\n",
        " \n",
        "# получаем месяца\n",
        "print(s_ts.dt.month)\n",
        " \n",
        "# получаем дни\n",
        "print(s_ts.dt.day)\n",
        " \n",
        "# получаем номер недели\n",
        "print(s_ts.dt.isocalendar().week)\n",
        " \n",
        "# получаем номер дня в году\n",
        "print(s_ts.dt.dayofyear)"
      ],
      "execution_count": 22,
      "outputs": [
        {
          "output_type": "stream",
          "text": [
            "0    2018\n",
            "1    2011\n",
            "2    2012\n",
            "3    2013\n",
            "4    2018\n",
            "dtype: int64\n",
            "0     1\n",
            "1     2\n",
            "2     3\n",
            "3     4\n",
            "4    12\n",
            "dtype: int64\n",
            "0     1\n",
            "1     2\n",
            "2     3\n",
            "3     4\n",
            "4    31\n",
            "dtype: int64\n",
            "0     1\n",
            "1     5\n",
            "2     9\n",
            "3    14\n",
            "4     1\n",
            "Name: week, dtype: UInt32\n",
            "0      1\n",
            "1     33\n",
            "2     63\n",
            "3     94\n",
            "4    365\n",
            "dtype: int64\n"
          ],
          "name": "stdout"
        }
      ]
    },
    {
      "cell_type": "markdown",
      "metadata": {
        "id": "p2E_SY2E-HRn"
      },
      "source": [
        "Отобрать элементы объекта Series, кторые содержат не менее двух гласных"
      ]
    },
    {
      "cell_type": "code",
      "metadata": {
        "id": "bA4GQ5xGBwf7",
        "colab": {
          "base_uri": "https://localhost:8080/"
        },
        "outputId": "237894cb-19c0-4098-aec4-3dbad288e4c9"
      },
      "source": [
        "from collections import Counter\n",
        " \n",
        "s = pd.Series(['Яблоко', 'Orange', 'Plan', 'Python', 'Апельсин', 'Стол', 'Reliance'])\n",
        "mask = s.map(lambda x: sum([Counter(x.lower()).get(i, 0) for i in list('aeiouаоиеёэыуюя')]) >= 2)\n",
        "ans = s[mask]\n",
        "print(ans)"
      ],
      "execution_count": 23,
      "outputs": [
        {
          "output_type": "stream",
          "text": [
            "0      Яблоко\n",
            "1      Orange\n",
            "4    Апельсин\n",
            "6    Reliance\n",
            "dtype: object\n"
          ],
          "name": "stdout"
        }
      ]
    },
    {
      "cell_type": "markdown",
      "metadata": {
        "id": "vHSfS066CcaR"
      },
      "source": [
        "Отобрать e-маилы из объекта Series"
      ]
    },
    {
      "cell_type": "code",
      "metadata": {
        "id": "-88xYrb4E5m9",
        "colab": {
          "base_uri": "https://localhost:8080/"
        },
        "outputId": "16edfe74-19f5-42ce-db76-b7b772694002"
      },
      "source": [
        "# модуль для работы с регулярными выражениями\n",
        "import re\n",
        " \n",
        "emails = pd.Series(['test text @test.com', 'test@mail.ru', 'test.2ru', 'test@pp'])\n",
        "pattern = '[A-Za-z0-9._%+-]+@[A-Za-z0-9.-]+\\\\.[A-Za-z]{2,4}'\n",
        "mask = emails.map(lambda x: bool(re.match(pattern, x)))\n",
        "ans = emails[mask]\n",
        "print(ans)  "
      ],
      "execution_count": 24,
      "outputs": [
        {
          "output_type": "stream",
          "text": [
            "1    test@mail.ru\n",
            "dtype: object\n"
          ],
          "name": "stdout"
        }
      ]
    },
    {
      "cell_type": "markdown",
      "metadata": {
        "id": "rmoHRLrgFx5P"
      },
      "source": [
        "Получить среднее значение каждого уникального объекта Series s1 через \"маску\" другого объекта Series s2"
      ]
    },
    {
      "cell_type": "code",
      "metadata": {
        "id": "4Ck7n2LEFzCQ",
        "colab": {
          "base_uri": "https://localhost:8080/"
        },
        "outputId": "5bd6f712-874b-44cd-91f9-41857467ac6e"
      },
      "source": [
        "n = 10\n",
        "s1 = pd.Series(np.random.choice(['dog', 'cat', 'horse', 'bird'], n))\n",
        "print(s1)\n",
        "s2 = pd.Series(np.arange(n))\n",
        "print(s2)\n",
        "ans = s2.groupby(s1).mean()\n",
        "print(ans)"
      ],
      "execution_count": 25,
      "outputs": [
        {
          "output_type": "stream",
          "text": [
            "0     bird\n",
            "1      dog\n",
            "2    horse\n",
            "3      cat\n",
            "4     bird\n",
            "5      dog\n",
            "6    horse\n",
            "7    horse\n",
            "8      cat\n",
            "9      dog\n",
            "dtype: object\n",
            "0    0\n",
            "1    1\n",
            "2    2\n",
            "3    3\n",
            "4    4\n",
            "5    5\n",
            "6    6\n",
            "7    7\n",
            "8    8\n",
            "9    9\n",
            "dtype: int64\n",
            "bird     2.0\n",
            "cat      5.5\n",
            "dog      5.0\n",
            "horse    5.0\n",
            "dtype: float64\n"
          ],
          "name": "stdout"
        }
      ]
    }
  ]
}
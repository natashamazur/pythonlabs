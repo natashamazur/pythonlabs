{
  "nbformat": 4,
  "nbformat_minor": 0,
  "metadata": {
    "colab": {
      "name": "Copy of Untitled0.ipynb",
      "provenance": [],
      "collapsed_sections": [],
      "include_colab_link": true
    },
    "kernelspec": {
      "name": "python3",
      "display_name": "Python 3"
    }
  },
  "cells": [
    {
      "cell_type": "markdown",
      "metadata": {
        "id": "view-in-github",
        "colab_type": "text"
      },
      "source": [
        "<a href=\"https://colab.research.google.com/github/natashamazur/pythonlabs/blob/main/pandaslab5.ipynb\" target=\"_parent\"><img src=\"https://colab.research.google.com/assets/colab-badge.svg\" alt=\"Open In Colab\"/></a>"
      ]
    },
    {
      "cell_type": "code",
      "metadata": {
        "id": "fpbafh0J2U5A"
      },
      "source": [
        "import numpy as np\n",
        "import pandas as pd"
      ],
      "execution_count": 6,
      "outputs": []
    },
    {
      "cell_type": "markdown",
      "metadata": {
        "id": "KdBgVtWF2w_6"
      },
      "source": [
        "Получить от объекта Series показатели описательной статистики"
      ]
    },
    {
      "cell_type": "code",
      "metadata": {
        "id": "W3p5f__Y2zv0",
        "colab": {
          "base_uri": "https://localhost:8080/"
        },
        "outputId": "7c64e628-0bbc-4612-b7fc-1618ddbe6056"
      },
      "source": [
        "state = np.random.RandomState(42)\n",
        " \n",
        "s = pd.Series(state.normal(10, 5, 25))\n",
        "pkz = s.describe()\n",
        "print(pkz)"
      ],
      "execution_count": null,
      "outputs": [
        {
          "output_type": "stream",
          "text": [
            "count    25.000000\n",
            "mean      9.182460\n",
            "std       4.782765\n",
            "min       0.433599\n",
            "25%       7.188562\n",
            "50%       8.829315\n",
            "75%      12.483571\n",
            "max      17.896064\n",
            "dtype: float64\n"
          ],
          "name": "stdout"
        }
      ]
    },
    {
      "cell_type": "markdown",
      "metadata": {
        "id": "ViPADgYC302v"
      },
      "source": [
        "Узнать частоту уникальных элементов объекта Series (гистограмма)"
      ]
    },
    {
      "cell_type": "code",
      "metadata": {
        "colab": {
          "base_uri": "https://localhost:8080/"
        },
        "id": "xZLIJ5g54I1o",
        "outputId": "687bbfd0-f0a3-4037-d81a-971e331bafb2"
      },
      "source": [
        "data = 'abcdefghik'\n",
        "len_series = 30\n",
        "s = pd.Series(np.take(list(data), np.random.randint(len(data), size=len_series)))\n",
        "print(s)\n",
        "# считаем число вхождений\n",
        "ans = s.value_counts()\n",
        " \n",
        "print(ans)\n"
      ],
      "execution_count": null,
      "outputs": [
        {
          "output_type": "stream",
          "text": [
            "0     c\n",
            "1     f\n",
            "2     k\n",
            "3     a\n",
            "4     a\n",
            "5     i\n",
            "6     i\n",
            "7     f\n",
            "8     k\n",
            "9     g\n",
            "10    f\n",
            "11    e\n",
            "12    e\n",
            "13    d\n",
            "14    g\n",
            "15    f\n",
            "16    i\n",
            "17    c\n",
            "18    d\n",
            "19    h\n",
            "20    i\n",
            "21    f\n",
            "22    i\n",
            "23    e\n",
            "24    a\n",
            "25    c\n",
            "26    d\n",
            "27    k\n",
            "28    c\n",
            "29    c\n",
            "dtype: object\n",
            "f    5\n",
            "i    5\n",
            "c    5\n",
            "e    3\n",
            "k    3\n",
            "a    3\n",
            "d    3\n",
            "g    2\n",
            "h    1\n",
            "dtype: int64\n"
          ],
          "name": "stdout"
        }
      ]
    },
    {
      "cell_type": "markdown",
      "metadata": {
        "id": "C3xknLLC4X9S"
      },
      "source": [
        "Заменить все элементы объекта Series на \"Other\", кроме двух наиболее часто встречающихся"
      ]
    },
    {
      "cell_type": "code",
      "metadata": {
        "colab": {
          "base_uri": "https://localhost:8080/"
        },
        "id": "xT_ny9cI4hHT",
        "outputId": "5f5418b8-2223-4884-c111-c56ac1e47c87"
      },
      "source": [
        "state = np.random.RandomState(42)\n",
        "s = pd.Series(state.randint(low=1, high=5, size=[13]))\n",
        "print(s.value_counts())\n",
        "s[~s.isin(s.value_counts().index[:2])] = 'Other'\n",
        "print(s)"
      ],
      "execution_count": null,
      "outputs": [
        {
          "output_type": "stream",
          "text": [
            "3    7\n",
            "1    3\n",
            "4    2\n",
            "2    1\n",
            "dtype: int64\n",
            "0         3\n",
            "1     Other\n",
            "2         1\n",
            "3         3\n",
            "4         3\n",
            "5     Other\n",
            "6         1\n",
            "7         1\n",
            "8         3\n",
            "9     Other\n",
            "10        3\n",
            "11        3\n",
            "12        3\n",
            "dtype: object\n"
          ],
          "name": "stdout"
        }
      ]
    },
    {
      "cell_type": "markdown",
      "metadata": {
        "id": "pQYLxCHR4zdg"
      },
      "source": [
        "Создать объект Series в индексах дата каждый день 2018 года, в значениях случайное значение"
      ]
    },
    {
      "cell_type": "code",
      "metadata": {
        "id": "0WGdm8YV5TVR",
        "colab": {
          "base_uri": "https://localhost:8080/"
        },
        "outputId": "5eb44ffa-54c9-47a9-b810-02b1622e561c"
      },
      "source": [
        "dti = pd.date_range(start='2018-01-01', end='2018-12-31', freq='B') \n",
        "s = pd.Series(np.random.rand(len(dti)), index=dti)\n",
        "print(s)"
      ],
      "execution_count": null,
      "outputs": [
        {
          "output_type": "stream",
          "text": [
            "2018-01-01    0.337087\n",
            "2018-01-02    0.309647\n",
            "2018-01-03    0.903604\n",
            "2018-01-04    0.333188\n",
            "2018-01-05    0.143262\n",
            "                ...   \n",
            "2018-12-25    0.460708\n",
            "2018-12-26    0.135769\n",
            "2018-12-27    0.556007\n",
            "2018-12-28    0.739518\n",
            "2018-12-31    0.514631\n",
            "Freq: B, Length: 261, dtype: float64\n"
          ],
          "name": "stdout"
        }
      ]
    },
    {
      "cell_type": "markdown",
      "metadata": {
        "id": "HJ_0z7IL5BwL"
      },
      "source": [
        "Найдем сумму всех вторников"
      ]
    },
    {
      "cell_type": "code",
      "metadata": {
        "id": "KscLDtpG5YuI",
        "colab": {
          "base_uri": "https://localhost:8080/"
        },
        "outputId": "2d6830a2-d1e5-4560-8653-1d98ee6d8856"
      },
      "source": [
        "ans1 = s[s.index.weekday == 2].sum()\n",
        "print('Сумма всех \"вторников\"', ans1)"
      ],
      "execution_count": null,
      "outputs": [
        {
          "output_type": "stream",
          "text": [
            "Сумма всех \"вторников\" 26.885204562970735\n"
          ],
          "name": "stdout"
        }
      ]
    },
    {
      "cell_type": "markdown",
      "metadata": {
        "id": "jcU4qHOJ5dh6"
      },
      "source": [
        "Для каждого месяца среднее значение"
      ]
    },
    {
      "cell_type": "code",
      "metadata": {
        "id": "0iRWKGR_5mPI",
        "colab": {
          "base_uri": "https://localhost:8080/"
        },
        "outputId": "15fc520a-344e-4cd0-8f88-ad88437b6bab"
      },
      "source": [
        "ans2 = s.resample('M').mean()\n",
        "print('Средние значения по месяцам:\\n', ans2)"
      ],
      "execution_count": null,
      "outputs": [
        {
          "output_type": "stream",
          "text": [
            "Средние значения по месяцам:\n",
            " 2018-01-31    0.653632\n",
            "2018-02-28    0.582621\n",
            "2018-03-31    0.497874\n",
            "2018-04-30    0.502516\n",
            "2018-05-31    0.488791\n",
            "2018-06-30    0.449847\n",
            "2018-07-31    0.524801\n",
            "2018-08-31    0.459591\n",
            "2018-09-30    0.528854\n",
            "2018-10-31    0.474758\n",
            "2018-11-30    0.549643\n",
            "2018-12-31    0.472520\n",
            "Freq: M, dtype: float64\n"
          ],
          "name": "stdout"
        }
      ]
    },
    {
      "cell_type": "markdown",
      "metadata": {
        "id": "iC_4PiTk5xQW"
      },
      "source": [
        "Преобразовать объект Series в DataFrame заданной формы (shape)"
      ]
    },
    {
      "cell_type": "code",
      "metadata": {
        "id": "ZFdt9npG53Au",
        "colab": {
          "base_uri": "https://localhost:8080/"
        },
        "outputId": "3b0e04b4-a475-41f0-a667-f116dd10bfbc"
      },
      "source": [
        "s = pd.Series(np.random.randint(low=1, high=10, size=[35]))\n",
        "print(s)"
      ],
      "execution_count": null,
      "outputs": [
        {
          "output_type": "stream",
          "text": [
            "0     2\n",
            "1     8\n",
            "2     6\n",
            "3     7\n",
            "4     6\n",
            "5     1\n",
            "6     9\n",
            "7     1\n",
            "8     7\n",
            "9     2\n",
            "10    2\n",
            "11    5\n",
            "12    1\n",
            "13    3\n",
            "14    4\n",
            "15    5\n",
            "16    6\n",
            "17    8\n",
            "18    8\n",
            "19    7\n",
            "20    8\n",
            "21    1\n",
            "22    9\n",
            "23    3\n",
            "24    2\n",
            "25    3\n",
            "26    3\n",
            "27    8\n",
            "28    3\n",
            "29    5\n",
            "30    7\n",
            "31    3\n",
            "32    3\n",
            "33    6\n",
            "34    8\n",
            "dtype: int64\n"
          ],
          "name": "stdout"
        }
      ]
    },
    {
      "cell_type": "markdown",
      "metadata": {
        "id": "-xgod4Pw5-4S"
      },
      "source": [
        "Преобразование в reshape"
      ]
    },
    {
      "cell_type": "code",
      "metadata": {
        "id": "rsPNH7fW6Egx",
        "colab": {
          "base_uri": "https://localhost:8080/"
        },
        "outputId": "1343fea8-c580-40ca-8384-19fbde9db5f7"
      },
      "source": [
        "r = (7, 5)\n",
        " \n",
        "if r[0] * r[1] != len(s):\n",
        "    sys.exit('не возможно применить reshape')\n",
        "    \n",
        "df = pd.DataFrame(s.values.reshape(r))\n",
        " \n",
        "print(df)"
      ],
      "execution_count": null,
      "outputs": [
        {
          "output_type": "stream",
          "text": [
            "   0  1  2  3  4\n",
            "0  2  8  6  7  6\n",
            "1  1  9  1  7  2\n",
            "2  2  5  1  3  4\n",
            "3  5  6  8  8  7\n",
            "4  8  1  9  3  2\n",
            "5  3  3  8  3  5\n",
            "6  7  3  3  6  8\n"
          ],
          "name": "stdout"
        }
      ]
    },
    {
      "cell_type": "markdown",
      "metadata": {
        "id": "1Nb2ocsu6KEe"
      },
      "source": [
        "Найти индексы объекта Series кратные 3"
      ]
    },
    {
      "cell_type": "code",
      "metadata": {
        "id": "4Ya6CgAf6NeZ",
        "colab": {
          "base_uri": "https://localhost:8080/"
        },
        "outputId": "c34d688c-b78a-4c2e-e124-97d10c182507"
      },
      "source": [
        "s = pd.Series(np.random.randint(low=1, high=10, size=[7]))\n",
        "print(s)\n",
        " \n",
        "ans2 = s[s % 3 == 0].index\n",
        "print(ans2)"
      ],
      "execution_count": null,
      "outputs": [
        {
          "output_type": "stream",
          "text": [
            "0    6\n",
            "1    3\n",
            "2    1\n",
            "3    5\n",
            "4    7\n",
            "5    9\n",
            "6    5\n",
            "dtype: int64\n",
            "Int64Index([0, 1, 5], dtype='int64')\n"
          ],
          "name": "stdout"
        }
      ]
    },
    {
      "cell_type": "markdown",
      "metadata": {
        "id": "QQsssNjq6TUF"
      },
      "source": [
        "Получить данные по индексам объекта Series"
      ]
    },
    {
      "cell_type": "code",
      "metadata": {
        "id": "j5QvL-Fp6W01",
        "colab": {
          "base_uri": "https://localhost:8080/"
        },
        "outputId": "97932054-7511-4357-9eb4-e79c1857da89"
      },
      "source": [
        "s = pd.Series(list('abcdefghijklmnopqrstuvwxyz'))\n",
        "p = [0, 4, 8, 14, 20, 10]\n",
        " \n",
        "ans1 = s[p]\n",
        "print(ans1)"
      ],
      "execution_count": null,
      "outputs": [
        {
          "output_type": "stream",
          "text": [
            "0     a\n",
            "4     e\n",
            "8     i\n",
            "14    o\n",
            "20    u\n",
            "10    k\n",
            "dtype: object\n"
          ],
          "name": "stdout"
        }
      ]
    },
    {
      "cell_type": "markdown",
      "metadata": {
        "id": "Z1ie1c2N6cPi"
      },
      "source": [
        "Объединить два объекта Series вертикально и горизонтально"
      ]
    },
    {
      "cell_type": "code",
      "metadata": {
        "id": "pi8Q-7Da6glY",
        "colab": {
          "base_uri": "https://localhost:8080/"
        },
        "outputId": "6d0aff5a-015b-43cc-df13-4877f7d0dce0"
      },
      "source": [
        "s1 = pd.Series(range(5))\n",
        "s2 = pd.Series(list('abcde'))\n",
        " \n",
        "ans_vertical = s1.append(s2)\n",
        "ans_horizontal = pd.concat([s1, s2], axis=1)\n",
        " \n",
        "print(ans_vertical)\n",
        "print(ans_horizontal)"
      ],
      "execution_count": null,
      "outputs": [
        {
          "output_type": "stream",
          "text": [
            "0    0\n",
            "1    1\n",
            "2    2\n",
            "3    3\n",
            "4    4\n",
            "0    a\n",
            "1    b\n",
            "2    c\n",
            "3    d\n",
            "4    e\n",
            "dtype: object\n",
            "   0  1\n",
            "0  0  a\n",
            "1  1  b\n",
            "2  2  c\n",
            "3  3  d\n",
            "4  4  e\n"
          ],
          "name": "stdout"
        }
      ]
    },
    {
      "cell_type": "markdown",
      "metadata": {
        "id": "K-UF5fdX6ld4"
      },
      "source": [
        "Получить индексы объекта Series A, данные которых содержатся в объетке Series B"
      ]
    },
    {
      "cell_type": "code",
      "metadata": {
        "id": "1_ksrErp6pHO",
        "colab": {
          "base_uri": "https://localhost:8080/"
        },
        "outputId": "dc5bea3c-a6f3-4f5e-bcaf-9b34174525e8"
      },
      "source": [
        "s1 = pd.Series([5, 3, 2, 1, 4, 11, 13, 8, 7])\n",
        "s2 = pd.Series([1, 5, 13, 2])\n",
        "\n",
        "ans3 = s1[s1.isin(s2)].index\n",
        "print(ans3)"
      ],
      "execution_count": null,
      "outputs": [
        {
          "output_type": "stream",
          "text": [
            "Int64Index([0, 2, 3, 6], dtype='int64')\n"
          ],
          "name": "stdout"
        }
      ]
    },
    {
      "cell_type": "markdown",
      "metadata": {
        "id": "Ca4b_9iU7gFH"
      },
      "source": [
        "Получить объект Series B, котоырй содержит элементы без повторений объекта A"
      ]
    },
    {
      "cell_type": "code",
      "metadata": {
        "id": "WM42iF3j7rf1",
        "colab": {
          "base_uri": "https://localhost:8080/"
        },
        "outputId": "99edf01b-e8b9-4a0b-bd6e-d33317388763"
      },
      "source": [
        "s = pd.Series(np.random.randint(low=1, high=10, size=[10]))\n",
        "print(s)\n",
        "ans = pd.Series(s.unique())\n",
        "print(ans)"
      ],
      "execution_count": null,
      "outputs": [
        {
          "output_type": "stream",
          "text": [
            "0    1\n",
            "1    2\n",
            "2    7\n",
            "3    4\n",
            "4    9\n",
            "5    6\n",
            "6    4\n",
            "7    6\n",
            "8    3\n",
            "9    1\n",
            "dtype: int64\n",
            "0    1\n",
            "1    2\n",
            "2    7\n",
            "3    4\n",
            "4    9\n",
            "5    6\n",
            "6    3\n",
            "dtype: int64\n"
          ],
          "name": "stdout"
        }
      ]
    },
    {
      "cell_type": "markdown",
      "metadata": {
        "id": "CvVcwCUJ7t_l"
      },
      "source": [
        "Преобразовать каждый символ объекта Series в верхний регистр"
      ]
    },
    {
      "cell_type": "code",
      "metadata": {
        "id": "xEiXOFWm71xO",
        "colab": {
          "base_uri": "https://localhost:8080/"
        },
        "outputId": "508fa1c3-cbd8-4dc3-cde2-93effb6e1982"
      },
      "source": [
        "s = pd.Series(['life', 'is', 'interesting'])\n",
        "ans2 = pd.Series(i.upper() for i in s)\n",
        "print(ans2)"
      ],
      "execution_count": null,
      "outputs": [
        {
          "output_type": "stream",
          "text": [
            "0           LIFE\n",
            "1             IS\n",
            "2    INTERESTING\n",
            "dtype: object\n"
          ],
          "name": "stdout"
        }
      ]
    },
    {
      "cell_type": "markdown",
      "metadata": {
        "id": "A1kyIK8E74vf"
      },
      "source": [
        "Преобразование данных Series в строку"
      ]
    },
    {
      "cell_type": "code",
      "metadata": {
        "id": "V-oogrbU8IZE",
        "colab": {
          "base_uri": "https://localhost:8080/"
        },
        "outputId": "236c5cc3-3436-4a69-ccd5-9d1003cfc1d6"
      },
      "source": [
        "a = pd.Series(np.arange(5))\n",
        "print(a)\n",
        "s = pd.Series(str(i) for i in a)\n",
        "print(s)"
      ],
      "execution_count": null,
      "outputs": [
        {
          "output_type": "stream",
          "text": [
            "0    0\n",
            "1    1\n",
            "2    2\n",
            "3    3\n",
            "4    4\n",
            "dtype: int64\n",
            "0    0\n",
            "1    1\n",
            "2    2\n",
            "3    3\n",
            "4    4\n",
            "dtype: object\n"
          ],
          "name": "stdout"
        }
      ]
    },
    {
      "cell_type": "markdown",
      "metadata": {
        "id": "QvxHj45k8LmJ"
      },
      "source": [
        "Рассчитать количество символов в объекте Series"
      ]
    },
    {
      "cell_type": "code",
      "metadata": {
        "id": "-7lGPMBm8Te1",
        "colab": {
          "base_uri": "https://localhost:8080/"
        },
        "outputId": "70f5d993-ca5f-438d-d5c1-d97fb07a3c95"
      },
      "source": [
        "s = pd.Series(['one', 'two', 'three', 'four', 'five'])\n",
        "ans2 = np.asarray([len(i) for i in s])\n",
        "print(ans2)"
      ],
      "execution_count": null,
      "outputs": [
        {
          "output_type": "stream",
          "text": [
            "[3 3 5 4 4]\n"
          ],
          "name": "stdout"
        }
      ]
    },
    {
      "cell_type": "markdown",
      "metadata": {
        "id": "wUfk3LwH8ZFk"
      },
      "source": [
        "Преобразование в строковый тип"
      ]
    },
    {
      "cell_type": "code",
      "metadata": {
        "id": "exejKcL98Xeo",
        "colab": {
          "base_uri": "https://localhost:8080/"
        },
        "outputId": "66943baa-4d1b-43d5-abc7-93c715efd03e"
      },
      "source": [
        "a = pd.Series(np.arange(5))\n",
        "print(a)\n",
        "s = pd.Series(str(i) for i in a)\n",
        "print(s)"
      ],
      "execution_count": null,
      "outputs": [
        {
          "output_type": "stream",
          "text": [
            "0    0\n",
            "1    1\n",
            "2    2\n",
            "3    3\n",
            "4    4\n",
            "dtype: int64\n",
            "0    0\n",
            "1    1\n",
            "2    2\n",
            "3    3\n",
            "4    4\n",
            "dtype: object\n"
          ],
          "name": "stdout"
        }
      ]
    },
    {
      "cell_type": "markdown",
      "metadata": {
        "id": "8shnOPKM8fXg"
      },
      "source": [
        "Найти разность между объектом Series и смещением объекта Series на n"
      ]
    },
    {
      "cell_type": "code",
      "metadata": {
        "id": "AgNl6e_b8euV",
        "colab": {
          "base_uri": "https://localhost:8080/"
        },
        "outputId": "aca94f97-dd91-461c-8a59-c0f74b243068"
      },
      "source": [
        "n = 1\n",
        " \n",
        "s = pd.Series([1, 5, 7, 8, 12, 15, 17])\n",
        " \n",
        "ans = s.diff(periods=n)\n",
        " \n",
        "print(ans)"
      ],
      "execution_count": null,
      "outputs": [
        {
          "output_type": "stream",
          "text": [
            "0    NaN\n",
            "1    4.0\n",
            "2    2.0\n",
            "3    1.0\n",
            "4    4.0\n",
            "5    3.0\n",
            "6    2.0\n",
            "dtype: float64\n"
          ],
          "name": "stdout"
        }
      ]
    },
    {
      "cell_type": "markdown",
      "metadata": {
        "id": "Gp-_i4Ah8x9H"
      },
      "source": [
        "Преобразовать разыне форматы строк объекта Series в дату"
      ]
    },
    {
      "cell_type": "code",
      "metadata": {
        "id": "5jacP08D81pf",
        "colab": {
          "base_uri": "https://localhost:8080/"
        },
        "outputId": "931f00d3-940d-4292-ef1f-e35a6ab97b6c"
      },
      "source": [
        "s = pd.Series(['2017/01/01', '2015-02-02', '15 Jan 2019'])\n",
        " \n",
        "ans = pd.to_datetime(s)\n",
        " \n",
        "print(ans)"
      ],
      "execution_count": null,
      "outputs": [
        {
          "output_type": "stream",
          "text": [
            "0   2017-01-01\n",
            "1   2015-02-02\n",
            "2   2019-01-15\n",
            "dtype: datetime64[ns]\n"
          ],
          "name": "stdout"
        }
      ]
    },
    {
      "cell_type": "markdown",
      "metadata": {
        "id": "PG0_WCM-9qtu"
      },
      "source": [
        "Поскольку работа с датой часто встречается в работе, то см. еще один пример"
      ]
    },
    {
      "cell_type": "code",
      "metadata": {
        "id": "47_Rkbd892uv",
        "colab": {
          "base_uri": "https://localhost:8080/"
        },
        "outputId": "40ff28b0-6c96-412e-c5e1-58d582d6d349"
      },
      "source": [
        "# все данные должны иметь одинаковый формат (часто бывает выгрузка из SQL)\n",
        "s = pd.Series(['14.02.2019', '22.01.2019', '01.03.2019'])\n",
        " \n",
        "# преобразование в дату\n",
        "ans = pd.to_datetime(s, format='%d.%m.%Y')\n",
        " \n",
        "print(ans)"
      ],
      "execution_count": null,
      "outputs": [
        {
          "output_type": "stream",
          "text": [
            "0   2019-02-14\n",
            "1   2019-01-22\n",
            "2   2019-03-01\n",
            "dtype: datetime64[ns]\n"
          ],
          "name": "stdout"
        }
      ]
    },
    {
      "cell_type": "markdown",
      "metadata": {
        "id": "gd5BIfCW950N"
      },
      "source": [
        "Получить год, месяц, день, день недели, номер дня в году от объекта Series (string)"
      ]
    },
    {
      "cell_type": "code",
      "metadata": {
        "id": "3R6MeidW9-Ci",
        "colab": {
          "base_uri": "https://localhost:8080/"
        },
        "outputId": "8f258b63-25fd-49fa-9c57-9132845bb6ee"
      },
      "source": [
        "from dateutil.parser import parse\n",
        " \n",
        "s = pd.Series(['01 Jan 2018', '02-02-2011', '20120303', '2013/04/04', '2018-12-31'])\n",
        " \n",
        "# парсим в дату и время\n",
        "s_ts = s.map(lambda x: parse(x, yearfirst=True))\n",
        " \n",
        "# получаем года\n",
        "print(s_ts.dt.year)\n",
        " \n",
        "# получаем месяца\n",
        "print(s_ts.dt.month)\n",
        " \n",
        "# получаем дни\n",
        "print(s_ts.dt.day)\n",
        " \n",
        "# получаем номер недели\n",
        "print(s_ts.dt.isocalendar().week)\n",
        " \n",
        "# получаем номер дня в году\n",
        "print(s_ts.dt.dayofyear)"
      ],
      "execution_count": 7,
      "outputs": [
        {
          "output_type": "stream",
          "text": [
            "0    2018\n",
            "1    2011\n",
            "2    2012\n",
            "3    2013\n",
            "4    2018\n",
            "dtype: int64\n",
            "0     1\n",
            "1     2\n",
            "2     3\n",
            "3     4\n",
            "4    12\n",
            "dtype: int64\n",
            "0     1\n",
            "1     2\n",
            "2     3\n",
            "3     4\n",
            "4    31\n",
            "dtype: int64\n",
            "0     1\n",
            "1     5\n",
            "2     9\n",
            "3    14\n",
            "4     1\n",
            "Name: week, dtype: UInt32\n",
            "0      1\n",
            "1     33\n",
            "2     63\n",
            "3     94\n",
            "4    365\n",
            "dtype: int64\n"
          ],
          "name": "stdout"
        }
      ]
    },
    {
      "cell_type": "markdown",
      "metadata": {
        "id": "p2E_SY2E-HRn"
      },
      "source": [
        "Отобрать элементы объекта Series, кторые содержат не менее двух гласных"
      ]
    },
    {
      "cell_type": "code",
      "metadata": {
        "id": "bA4GQ5xGBwf7",
        "colab": {
          "base_uri": "https://localhost:8080/"
        },
        "outputId": "ba026397-aa77-4b05-b5ec-3291aca995c3"
      },
      "source": [
        "from collections import Counter\n",
        " \n",
        "s = pd.Series(['Яблоко', 'Orange', 'Plan', 'Python', 'Апельсин', 'Стол', 'Reliance'])\n",
        "mask = s.map(lambda x: sum([Counter(x.lower()).get(i, 0) for i in list('aeiouаоиеёэыуюя')]) >= 2)\n",
        "ans = s[mask]\n",
        "print(ans)"
      ],
      "execution_count": null,
      "outputs": [
        {
          "output_type": "stream",
          "text": [
            "0      Яблоко\n",
            "1      Orange\n",
            "4    Апельсин\n",
            "6    Reliance\n",
            "dtype: object\n"
          ],
          "name": "stdout"
        }
      ]
    },
    {
      "cell_type": "markdown",
      "metadata": {
        "id": "vHSfS066CcaR"
      },
      "source": [
        "Отобрать e-маилы из объекта Series"
      ]
    },
    {
      "cell_type": "code",
      "metadata": {
        "id": "-88xYrb4E5m9",
        "colab": {
          "base_uri": "https://localhost:8080/"
        },
        "outputId": "4a5ebc26-d1ec-48b4-9e48-90bbb74531be"
      },
      "source": [
        "# модуль для работы с регулярными выражениями\n",
        "import re\n",
        " \n",
        "emails = pd.Series(['test text @test.com', 'test@mail.ru', 'test.2ru', 'test@pp'])\n",
        "pattern = '[A-Za-z0-9._%+-]+@[A-Za-z0-9.-]+\\\\.[A-Za-z]{2,4}'\n",
        "mask = emails.map(lambda x: bool(re.match(pattern, x)))\n",
        "ans = emails[mask]\n",
        "print(ans)  "
      ],
      "execution_count": null,
      "outputs": [
        {
          "output_type": "stream",
          "text": [
            "1    test@mail.ru\n",
            "dtype: object\n"
          ],
          "name": "stdout"
        }
      ]
    },
    {
      "cell_type": "markdown",
      "metadata": {
        "id": "rmoHRLrgFx5P"
      },
      "source": [
        "Получить среднее значение каждого уникального объекта Series s1 через \"маску\" другого объекта Series s2"
      ]
    },
    {
      "cell_type": "code",
      "metadata": {
        "id": "4Ck7n2LEFzCQ",
        "colab": {
          "base_uri": "https://localhost:8080/"
        },
        "outputId": "9b8fca7e-d48e-4cfa-a273-5df6e7e47a8c"
      },
      "source": [
        "n = 10\n",
        "s1 = pd.Series(np.random.choice(['dog', 'cat', 'horse', 'bird'], n))\n",
        "print(s1)\n",
        "s2 = pd.Series(np.arange(n))\n",
        "print(s2)\n",
        "ans = s2.groupby(s1).mean()\n",
        "print(ans)"
      ],
      "execution_count": null,
      "outputs": [
        {
          "output_type": "stream",
          "text": [
            "bird     5.000000\n",
            "dog      5.833333\n",
            "horse    5.000000\n",
            "dtype: float64\n"
          ],
          "name": "stdout"
        }
      ]
    }
  ]
}